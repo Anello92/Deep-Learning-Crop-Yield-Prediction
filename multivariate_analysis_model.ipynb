{
  "cells": [
    {
      "cell_type": "markdown",
      "id": "3d5ab76f",
      "metadata": {
        "id": "3d5ab76f"
      },
      "source": [
        " **<font color='white gray'>panData</font>**\n",
        "\n",
        "# **<font color='white gray'>Data Science for Multivariate Data Analysis</font>**\n",
        "\n",
        "**<font color='white gray'>Data Science in Agribusiness</font>\n",
        "<font color='white gray'>Yield Prediction and Irrigation Optimization</font>**"
      ]
    },
    {
      "cell_type": "markdown",
      "id": "cdc240d6",
      "metadata": {
        "id": "cdc240d6"
      },
      "source": [
        "\n",
        "\n",
        "## **Installing and Loading Packages**"
      ]
    },
    {
      "cell_type": "code",
      "execution_count": 5,
      "id": "97d4c1b1",
      "metadata": {
        "id": "97d4c1b1"
      },
      "outputs": [],
      "source": [
        "!pip install -q -U watermark"
      ]
    },
    {
      "cell_type": "markdown",
      "id": "52c039f6",
      "metadata": {
        "id": "52c039f6"
      },
      "source": [
        "https://www.tensorflow.org/"
      ]
    },
    {
      "cell_type": "code",
      "execution_count": 6,
      "id": "b1364fea",
      "metadata": {
        "id": "b1364fea",
        "outputId": "7869fcc5-81f3-416a-e6da-7025709b0741",
        "colab": {
          "base_uri": "https://localhost:8080/"
        }
      },
      "outputs": [
        {
          "output_type": "stream",
          "name": "stdout",
          "text": [
            "env: TF_CPP_MIN_LOG_LEVEL=3\n"
          ]
        }
      ],
      "source": [
        "%env TF_CPP_MIN_LOG_LEVEL=3"
      ]
    },
    {
      "cell_type": "code",
      "execution_count": 7,
      "id": "eec3660d",
      "metadata": {
        "id": "eec3660d"
      },
      "outputs": [],
      "source": [
        "# Imports\n",
        "import joblib\n",
        "import sklearn\n",
        "import pandas as pd\n",
        "import tensorflow as tf\n",
        "from sklearn.model_selection import train_test_split\n",
        "from sklearn.preprocessing import StandardScaler\n",
        "from tensorflow.keras.models import Sequential\n",
        "from tensorflow.keras.layers import Dense, Dropout\n",
        "from tensorflow.keras.callbacks import EarlyStopping, ModelCheckpoint\n",
        "import warnings\n",
        "warnings.filterwarnings('ignore')"
      ]
    },
    {
      "cell_type": "code",
      "execution_count": 8,
      "id": "7a2d4bbb",
      "metadata": {
        "id": "7a2d4bbb",
        "outputId": "995cb171-8834-4801-e48f-feb90f1570da",
        "colab": {
          "base_uri": "https://localhost:8080/"
        }
      },
      "outputs": [
        {
          "output_type": "stream",
          "name": "stdout",
          "text": [
            "Author: panData\n",
            "\n"
          ]
        }
      ],
      "source": [
        "%reload_ext watermark\n",
        "%watermark -a \"panData\""
      ]
    },
    {
      "cell_type": "markdown",
      "id": "e10aff27",
      "metadata": {
        "id": "e10aff27"
      },
      "source": [
        "## **Loading the Dataset**"
      ]
    },
    {
      "cell_type": "code",
      "execution_count": 9,
      "id": "f177e985",
      "metadata": {
        "id": "f177e985"
      },
      "outputs": [],
      "source": [
        "# Load the dataset\n",
        "df = pd.read_csv('dataset.csv')"
      ]
    },
    {
      "cell_type": "code",
      "execution_count": 10,
      "id": "d2fc687d",
      "metadata": {
        "id": "d2fc687d",
        "colab": {
          "base_uri": "https://localhost:8080/"
        },
        "outputId": "bf8ebe45-c2e0-4ffc-f411-da5c9032e88c"
      },
      "outputs": [
        {
          "output_type": "execute_result",
          "data": {
            "text/plain": [
              "(124, 12)"
            ]
          },
          "metadata": {},
          "execution_count": 10
        }
      ],
      "source": [
        "df.shape"
      ]
    },
    {
      "cell_type": "code",
      "execution_count": 11,
      "id": "ee4c7fd0",
      "metadata": {
        "id": "ee4c7fd0",
        "colab": {
          "base_uri": "https://localhost:8080/",
          "height": 358
        },
        "outputId": "12c1f703-9748-492a-e4a2-99ce938185f3"
      },
      "outputs": [
        {
          "output_type": "execute_result",
          "data": {
            "text/plain": [
              "         date  veg_index  soil_capacity  co2_level  nutrient_level  \\\n",
              "0  2012-12-01        323            455    3102.61          423.45   \n",
              "1  2013-01-01        345            546    3100.45          415.85   \n",
              "2  2013-02-01        362            595    3199.41          410.77   \n",
              "3  2013-03-01        376            636    3281.67          414.82   \n",
              "4  2013-04-01        383            738    3261.65          451.04   \n",
              "\n",
              "   fertilizer_index  root_depth  solar_radiation  precipitation  growth_stage  \\\n",
              "0             844.0       468.0            578.0          28.67     207.70504   \n",
              "1             799.0       485.0            557.0          24.49     228.94287   \n",
              "2             718.0       466.0            552.0          22.06     238.41747   \n",
              "3             614.0       442.0            574.0          21.64     218.47599   \n",
              "4             619.0       429.0            595.0          22.30     226.15010   \n",
              "\n",
              "   yield_history   humidity  \n",
              "0          117.7  79.261905  \n",
              "1            4.5  82.193548  \n",
              "2           25.1  74.839286  \n",
              "3           53.6  77.935484  \n",
              "4          166.0  80.450000  "
            ],
            "text/html": [
              "\n",
              "  <div id=\"df-f6739fca-5110-4544-a44b-425456d5a889\" class=\"colab-df-container\">\n",
              "    <div>\n",
              "<style scoped>\n",
              "    .dataframe tbody tr th:only-of-type {\n",
              "        vertical-align: middle;\n",
              "    }\n",
              "\n",
              "    .dataframe tbody tr th {\n",
              "        vertical-align: top;\n",
              "    }\n",
              "\n",
              "    .dataframe thead th {\n",
              "        text-align: right;\n",
              "    }\n",
              "</style>\n",
              "<table border=\"1\" class=\"dataframe\">\n",
              "  <thead>\n",
              "    <tr style=\"text-align: right;\">\n",
              "      <th></th>\n",
              "      <th>date</th>\n",
              "      <th>veg_index</th>\n",
              "      <th>soil_capacity</th>\n",
              "      <th>co2_level</th>\n",
              "      <th>nutrient_level</th>\n",
              "      <th>fertilizer_index</th>\n",
              "      <th>root_depth</th>\n",
              "      <th>solar_radiation</th>\n",
              "      <th>precipitation</th>\n",
              "      <th>growth_stage</th>\n",
              "      <th>yield_history</th>\n",
              "      <th>humidity</th>\n",
              "    </tr>\n",
              "  </thead>\n",
              "  <tbody>\n",
              "    <tr>\n",
              "      <th>0</th>\n",
              "      <td>2012-12-01</td>\n",
              "      <td>323</td>\n",
              "      <td>455</td>\n",
              "      <td>3102.61</td>\n",
              "      <td>423.45</td>\n",
              "      <td>844.0</td>\n",
              "      <td>468.0</td>\n",
              "      <td>578.0</td>\n",
              "      <td>28.67</td>\n",
              "      <td>207.70504</td>\n",
              "      <td>117.7</td>\n",
              "      <td>79.261905</td>\n",
              "    </tr>\n",
              "    <tr>\n",
              "      <th>1</th>\n",
              "      <td>2013-01-01</td>\n",
              "      <td>345</td>\n",
              "      <td>546</td>\n",
              "      <td>3100.45</td>\n",
              "      <td>415.85</td>\n",
              "      <td>799.0</td>\n",
              "      <td>485.0</td>\n",
              "      <td>557.0</td>\n",
              "      <td>24.49</td>\n",
              "      <td>228.94287</td>\n",
              "      <td>4.5</td>\n",
              "      <td>82.193548</td>\n",
              "    </tr>\n",
              "    <tr>\n",
              "      <th>2</th>\n",
              "      <td>2013-02-01</td>\n",
              "      <td>362</td>\n",
              "      <td>595</td>\n",
              "      <td>3199.41</td>\n",
              "      <td>410.77</td>\n",
              "      <td>718.0</td>\n",
              "      <td>466.0</td>\n",
              "      <td>552.0</td>\n",
              "      <td>22.06</td>\n",
              "      <td>238.41747</td>\n",
              "      <td>25.1</td>\n",
              "      <td>74.839286</td>\n",
              "    </tr>\n",
              "    <tr>\n",
              "      <th>3</th>\n",
              "      <td>2013-03-01</td>\n",
              "      <td>376</td>\n",
              "      <td>636</td>\n",
              "      <td>3281.67</td>\n",
              "      <td>414.82</td>\n",
              "      <td>614.0</td>\n",
              "      <td>442.0</td>\n",
              "      <td>574.0</td>\n",
              "      <td>21.64</td>\n",
              "      <td>218.47599</td>\n",
              "      <td>53.6</td>\n",
              "      <td>77.935484</td>\n",
              "    </tr>\n",
              "    <tr>\n",
              "      <th>4</th>\n",
              "      <td>2013-04-01</td>\n",
              "      <td>383</td>\n",
              "      <td>738</td>\n",
              "      <td>3261.65</td>\n",
              "      <td>451.04</td>\n",
              "      <td>619.0</td>\n",
              "      <td>429.0</td>\n",
              "      <td>595.0</td>\n",
              "      <td>22.30</td>\n",
              "      <td>226.15010</td>\n",
              "      <td>166.0</td>\n",
              "      <td>80.450000</td>\n",
              "    </tr>\n",
              "  </tbody>\n",
              "</table>\n",
              "</div>\n",
              "    <div class=\"colab-df-buttons\">\n",
              "\n",
              "  <div class=\"colab-df-container\">\n",
              "    <button class=\"colab-df-convert\" onclick=\"convertToInteractive('df-f6739fca-5110-4544-a44b-425456d5a889')\"\n",
              "            title=\"Convert this dataframe to an interactive table.\"\n",
              "            style=\"display:none;\">\n",
              "\n",
              "  <svg xmlns=\"http://www.w3.org/2000/svg\" height=\"24px\" viewBox=\"0 -960 960 960\">\n",
              "    <path d=\"M120-120v-720h720v720H120Zm60-500h600v-160H180v160Zm220 220h160v-160H400v160Zm0 220h160v-160H400v160ZM180-400h160v-160H180v160Zm440 0h160v-160H620v160ZM180-180h160v-160H180v160Zm440 0h160v-160H620v160Z\"/>\n",
              "  </svg>\n",
              "    </button>\n",
              "\n",
              "  <style>\n",
              "    .colab-df-container {\n",
              "      display:flex;\n",
              "      gap: 12px;\n",
              "    }\n",
              "\n",
              "    .colab-df-convert {\n",
              "      background-color: #E8F0FE;\n",
              "      border: none;\n",
              "      border-radius: 50%;\n",
              "      cursor: pointer;\n",
              "      display: none;\n",
              "      fill: #1967D2;\n",
              "      height: 32px;\n",
              "      padding: 0 0 0 0;\n",
              "      width: 32px;\n",
              "    }\n",
              "\n",
              "    .colab-df-convert:hover {\n",
              "      background-color: #E2EBFA;\n",
              "      box-shadow: 0px 1px 2px rgba(60, 64, 67, 0.3), 0px 1px 3px 1px rgba(60, 64, 67, 0.15);\n",
              "      fill: #174EA6;\n",
              "    }\n",
              "\n",
              "    .colab-df-buttons div {\n",
              "      margin-bottom: 4px;\n",
              "    }\n",
              "\n",
              "    [theme=dark] .colab-df-convert {\n",
              "      background-color: #3B4455;\n",
              "      fill: #D2E3FC;\n",
              "    }\n",
              "\n",
              "    [theme=dark] .colab-df-convert:hover {\n",
              "      background-color: #434B5C;\n",
              "      box-shadow: 0px 1px 3px 1px rgba(0, 0, 0, 0.15);\n",
              "      filter: drop-shadow(0px 1px 2px rgba(0, 0, 0, 0.3));\n",
              "      fill: #FFFFFF;\n",
              "    }\n",
              "  </style>\n",
              "\n",
              "    <script>\n",
              "      const buttonEl =\n",
              "        document.querySelector('#df-f6739fca-5110-4544-a44b-425456d5a889 button.colab-df-convert');\n",
              "      buttonEl.style.display =\n",
              "        google.colab.kernel.accessAllowed ? 'block' : 'none';\n",
              "\n",
              "      async function convertToInteractive(key) {\n",
              "        const element = document.querySelector('#df-f6739fca-5110-4544-a44b-425456d5a889');\n",
              "        const dataTable =\n",
              "          await google.colab.kernel.invokeFunction('convertToInteractive',\n",
              "                                                    [key], {});\n",
              "        if (!dataTable) return;\n",
              "\n",
              "        const docLinkHtml = 'Like what you see? Visit the ' +\n",
              "          '<a target=\"_blank\" href=https://colab.research.google.com/notebooks/data_table.ipynb>data table notebook</a>'\n",
              "          + ' to learn more about interactive tables.';\n",
              "        element.innerHTML = '';\n",
              "        dataTable['output_type'] = 'display_data';\n",
              "        await google.colab.output.renderOutput(dataTable, element);\n",
              "        const docLink = document.createElement('div');\n",
              "        docLink.innerHTML = docLinkHtml;\n",
              "        element.appendChild(docLink);\n",
              "      }\n",
              "    </script>\n",
              "  </div>\n",
              "\n",
              "\n",
              "<div id=\"df-8364f028-0e2d-4696-875c-21d591728d03\">\n",
              "  <button class=\"colab-df-quickchart\" onclick=\"quickchart('df-8364f028-0e2d-4696-875c-21d591728d03')\"\n",
              "            title=\"Suggest charts\"\n",
              "            style=\"display:none;\">\n",
              "\n",
              "<svg xmlns=\"http://www.w3.org/2000/svg\" height=\"24px\"viewBox=\"0 0 24 24\"\n",
              "     width=\"24px\">\n",
              "    <g>\n",
              "        <path d=\"M19 3H5c-1.1 0-2 .9-2 2v14c0 1.1.9 2 2 2h14c1.1 0 2-.9 2-2V5c0-1.1-.9-2-2-2zM9 17H7v-7h2v7zm4 0h-2V7h2v10zm4 0h-2v-4h2v4z\"/>\n",
              "    </g>\n",
              "</svg>\n",
              "  </button>\n",
              "\n",
              "<style>\n",
              "  .colab-df-quickchart {\n",
              "      --bg-color: #E8F0FE;\n",
              "      --fill-color: #1967D2;\n",
              "      --hover-bg-color: #E2EBFA;\n",
              "      --hover-fill-color: #174EA6;\n",
              "      --disabled-fill-color: #AAA;\n",
              "      --disabled-bg-color: #DDD;\n",
              "  }\n",
              "\n",
              "  [theme=dark] .colab-df-quickchart {\n",
              "      --bg-color: #3B4455;\n",
              "      --fill-color: #D2E3FC;\n",
              "      --hover-bg-color: #434B5C;\n",
              "      --hover-fill-color: #FFFFFF;\n",
              "      --disabled-bg-color: #3B4455;\n",
              "      --disabled-fill-color: #666;\n",
              "  }\n",
              "\n",
              "  .colab-df-quickchart {\n",
              "    background-color: var(--bg-color);\n",
              "    border: none;\n",
              "    border-radius: 50%;\n",
              "    cursor: pointer;\n",
              "    display: none;\n",
              "    fill: var(--fill-color);\n",
              "    height: 32px;\n",
              "    padding: 0;\n",
              "    width: 32px;\n",
              "  }\n",
              "\n",
              "  .colab-df-quickchart:hover {\n",
              "    background-color: var(--hover-bg-color);\n",
              "    box-shadow: 0 1px 2px rgba(60, 64, 67, 0.3), 0 1px 3px 1px rgba(60, 64, 67, 0.15);\n",
              "    fill: var(--button-hover-fill-color);\n",
              "  }\n",
              "\n",
              "  .colab-df-quickchart-complete:disabled,\n",
              "  .colab-df-quickchart-complete:disabled:hover {\n",
              "    background-color: var(--disabled-bg-color);\n",
              "    fill: var(--disabled-fill-color);\n",
              "    box-shadow: none;\n",
              "  }\n",
              "\n",
              "  .colab-df-spinner {\n",
              "    border: 2px solid var(--fill-color);\n",
              "    border-color: transparent;\n",
              "    border-bottom-color: var(--fill-color);\n",
              "    animation:\n",
              "      spin 1s steps(1) infinite;\n",
              "  }\n",
              "\n",
              "  @keyframes spin {\n",
              "    0% {\n",
              "      border-color: transparent;\n",
              "      border-bottom-color: var(--fill-color);\n",
              "      border-left-color: var(--fill-color);\n",
              "    }\n",
              "    20% {\n",
              "      border-color: transparent;\n",
              "      border-left-color: var(--fill-color);\n",
              "      border-top-color: var(--fill-color);\n",
              "    }\n",
              "    30% {\n",
              "      border-color: transparent;\n",
              "      border-left-color: var(--fill-color);\n",
              "      border-top-color: var(--fill-color);\n",
              "      border-right-color: var(--fill-color);\n",
              "    }\n",
              "    40% {\n",
              "      border-color: transparent;\n",
              "      border-right-color: var(--fill-color);\n",
              "      border-top-color: var(--fill-color);\n",
              "    }\n",
              "    60% {\n",
              "      border-color: transparent;\n",
              "      border-right-color: var(--fill-color);\n",
              "    }\n",
              "    80% {\n",
              "      border-color: transparent;\n",
              "      border-right-color: var(--fill-color);\n",
              "      border-bottom-color: var(--fill-color);\n",
              "    }\n",
              "    90% {\n",
              "      border-color: transparent;\n",
              "      border-bottom-color: var(--fill-color);\n",
              "    }\n",
              "  }\n",
              "</style>\n",
              "\n",
              "  <script>\n",
              "    async function quickchart(key) {\n",
              "      const quickchartButtonEl =\n",
              "        document.querySelector('#' + key + ' button');\n",
              "      quickchartButtonEl.disabled = true;  // To prevent multiple clicks.\n",
              "      quickchartButtonEl.classList.add('colab-df-spinner');\n",
              "      try {\n",
              "        const charts = await google.colab.kernel.invokeFunction(\n",
              "            'suggestCharts', [key], {});\n",
              "      } catch (error) {\n",
              "        console.error('Error during call to suggestCharts:', error);\n",
              "      }\n",
              "      quickchartButtonEl.classList.remove('colab-df-spinner');\n",
              "      quickchartButtonEl.classList.add('colab-df-quickchart-complete');\n",
              "    }\n",
              "    (() => {\n",
              "      let quickchartButtonEl =\n",
              "        document.querySelector('#df-8364f028-0e2d-4696-875c-21d591728d03 button');\n",
              "      quickchartButtonEl.style.display =\n",
              "        google.colab.kernel.accessAllowed ? 'block' : 'none';\n",
              "    })();\n",
              "  </script>\n",
              "</div>\n",
              "\n",
              "    </div>\n",
              "  </div>\n"
            ],
            "application/vnd.google.colaboratory.intrinsic+json": {
              "type": "dataframe",
              "variable_name": "df",
              "summary": "{\n  \"name\": \"df\",\n  \"rows\": 124,\n  \"fields\": [\n    {\n      \"column\": \"date\",\n      \"properties\": {\n        \"dtype\": \"object\",\n        \"num_unique_values\": 124,\n        \"samples\": [\n          \"2014-06-01\",\n          \"2016-06-01\",\n          \"2015-12-01\"\n        ],\n        \"semantic_type\": \"\",\n        \"description\": \"\"\n      }\n    },\n    {\n      \"column\": \"veg_index\",\n      \"properties\": {\n        \"dtype\": \"number\",\n        \"std\": 134,\n        \"min\": 234,\n        \"max\": 719,\n        \"num_unique_values\": 106,\n        \"samples\": [\n          251,\n          391,\n          383\n        ],\n        \"semantic_type\": \"\",\n        \"description\": \"\"\n      }\n    },\n    {\n      \"column\": \"soil_capacity\",\n      \"properties\": {\n        \"dtype\": \"number\",\n        \"std\": 146,\n        \"min\": 285,\n        \"max\": 874,\n        \"num_unique_values\": 110,\n        \"samples\": [\n          700,\n          528,\n          738\n        ],\n        \"semantic_type\": \"\",\n        \"description\": \"\"\n      }\n    },\n    {\n      \"column\": \"co2_level\",\n      \"properties\": {\n        \"dtype\": \"number\",\n        \"std\": 1025.7601401542988,\n        \"min\": 2536.49,\n        \"max\": 6241.91,\n        \"num_unique_values\": 124,\n        \"samples\": [\n          2628.83,\n          4161.09,\n          3596.26\n        ],\n        \"semantic_type\": \"\",\n        \"description\": \"\"\n      }\n    },\n    {\n      \"column\": \"nutrient_level\",\n      \"properties\": {\n        \"dtype\": \"number\",\n        \"std\": 306.28865154057314,\n        \"min\": 410.77,\n        \"max\": 1591.88,\n        \"num_unique_values\": 124,\n        \"samples\": [\n          553.48,\n          654.17,\n          647.24\n        ],\n        \"semantic_type\": \"\",\n        \"description\": \"\"\n      }\n    },\n    {\n      \"column\": \"fertilizer_index\",\n      \"properties\": {\n        \"dtype\": \"number\",\n        \"std\": 142.75455365053065,\n        \"min\": 562.0,\n        \"max\": 1096.0,\n        \"num_unique_values\": 112,\n        \"samples\": [\n          1025.0,\n          1093.0,\n          619.0\n        ],\n        \"semantic_type\": \"\",\n        \"description\": \"\"\n      }\n    },\n    {\n      \"column\": \"root_depth\",\n      \"properties\": {\n        \"dtype\": \"number\",\n        \"std\": 109.88033385844544,\n        \"min\": 286.89,\n        \"max\": 706.0,\n        \"num_unique_values\": 115,\n        \"samples\": [\n          444.36,\n          429.0,\n          652.0\n        ],\n        \"semantic_type\": \"\",\n        \"description\": \"\"\n      }\n    },\n    {\n      \"column\": \"solar_radiation\",\n      \"properties\": {\n        \"dtype\": \"number\",\n        \"std\": 411.7888250728975,\n        \"min\": 543.0,\n        \"max\": 2045.0,\n        \"num_unique_values\": 115,\n        \"samples\": [\n          986.0,\n          595.0,\n          679.0\n        ],\n        \"semantic_type\": \"\",\n        \"description\": \"\"\n      }\n    },\n    {\n      \"column\": \"precipitation\",\n      \"properties\": {\n        \"dtype\": \"number\",\n        \"std\": 16.16163687008474,\n        \"min\": 21.64,\n        \"max\": 86.12,\n        \"num_unique_values\": 124,\n        \"samples\": [\n          30.84,\n          41.04,\n          37.59\n        ],\n        \"semantic_type\": \"\",\n        \"description\": \"\"\n      }\n    },\n    {\n      \"column\": \"growth_stage\",\n      \"properties\": {\n        \"dtype\": \"number\",\n        \"std\": 23.587044202076488,\n        \"min\": 141.75893,\n        \"max\": 252.54135,\n        \"num_unique_values\": 124,\n        \"samples\": [\n          184.81875,\n          199.9269,\n          206.42468\n        ],\n        \"semantic_type\": \"\",\n        \"description\": \"\"\n      }\n    },\n    {\n      \"column\": \"yield_history\",\n      \"properties\": {\n        \"dtype\": \"number\",\n        \"std\": 88.06108483512661,\n        \"min\": 2.1,\n        \"max\": 329.0,\n        \"num_unique_values\": 119,\n        \"samples\": [\n          274.2,\n          276.8,\n          166.0\n        ],\n        \"semantic_type\": \"\",\n        \"description\": \"\"\n      }\n    },\n    {\n      \"column\": \"humidity\",\n      \"properties\": {\n        \"dtype\": \"number\",\n        \"std\": 4.42547777404175,\n        \"min\": 61.56666667,\n        \"max\": 82.5483871,\n        \"num_unique_values\": 124,\n        \"samples\": [\n          70.46666667,\n          69.31666667,\n          82.5483871\n        ],\n        \"semantic_type\": \"\",\n        \"description\": \"\"\n      }\n    }\n  ]\n}"
            }
          },
          "metadata": {},
          "execution_count": 11
        }
      ],
      "source": [
        "df.head()"
      ]
    },
    {
      "cell_type": "code",
      "execution_count": 12,
      "id": "1ff0b2b4",
      "metadata": {
        "id": "1ff0b2b4",
        "colab": {
          "base_uri": "https://localhost:8080/",
          "height": 358
        },
        "outputId": "4b924db7-0236-4ee3-d3b0-5f96118340ca"
      },
      "outputs": [
        {
          "output_type": "execute_result",
          "data": {
            "text/plain": [
              "           date  veg_index  soil_capacity  co2_level  nutrient_level  \\\n",
              "119  2022-11-01        362            363    2626.91         1252.78   \n",
              "120  2022-12-01        310            322    2736.64         1287.68   \n",
              "121  2023-01-01        277            307    2842.81         1289.12   \n",
              "122  2023-02-01        323            330    2936.19         1303.59   \n",
              "123  2023-03-01        360            339    2847.84         1234.88   \n",
              "\n",
              "     fertilizer_index  root_depth  solar_radiation  precipitation  \\\n",
              "119            738.07      427.49          1430.48          60.18   \n",
              "120            749.57      385.09          1472.27          62.25   \n",
              "121            761.60      373.03          1525.43          63.04   \n",
              "122            759.59      390.69          1572.25          71.52   \n",
              "123            771.62      396.87          1302.61          74.80   \n",
              "\n",
              "     growth_stage  yield_history   humidity  \n",
              "119     186.68326           38.2  77.950000  \n",
              "120     210.72987           33.7  76.177419  \n",
              "121     244.41912            4.6  74.774194  \n",
              "122     223.31732            6.9  66.910714  \n",
              "123     228.56676           41.5  69.000000  "
            ],
            "text/html": [
              "\n",
              "  <div id=\"df-a6e36031-e045-4cf0-ac93-1e8530c53ed4\" class=\"colab-df-container\">\n",
              "    <div>\n",
              "<style scoped>\n",
              "    .dataframe tbody tr th:only-of-type {\n",
              "        vertical-align: middle;\n",
              "    }\n",
              "\n",
              "    .dataframe tbody tr th {\n",
              "        vertical-align: top;\n",
              "    }\n",
              "\n",
              "    .dataframe thead th {\n",
              "        text-align: right;\n",
              "    }\n",
              "</style>\n",
              "<table border=\"1\" class=\"dataframe\">\n",
              "  <thead>\n",
              "    <tr style=\"text-align: right;\">\n",
              "      <th></th>\n",
              "      <th>date</th>\n",
              "      <th>veg_index</th>\n",
              "      <th>soil_capacity</th>\n",
              "      <th>co2_level</th>\n",
              "      <th>nutrient_level</th>\n",
              "      <th>fertilizer_index</th>\n",
              "      <th>root_depth</th>\n",
              "      <th>solar_radiation</th>\n",
              "      <th>precipitation</th>\n",
              "      <th>growth_stage</th>\n",
              "      <th>yield_history</th>\n",
              "      <th>humidity</th>\n",
              "    </tr>\n",
              "  </thead>\n",
              "  <tbody>\n",
              "    <tr>\n",
              "      <th>119</th>\n",
              "      <td>2022-11-01</td>\n",
              "      <td>362</td>\n",
              "      <td>363</td>\n",
              "      <td>2626.91</td>\n",
              "      <td>1252.78</td>\n",
              "      <td>738.07</td>\n",
              "      <td>427.49</td>\n",
              "      <td>1430.48</td>\n",
              "      <td>60.18</td>\n",
              "      <td>186.68326</td>\n",
              "      <td>38.2</td>\n",
              "      <td>77.950000</td>\n",
              "    </tr>\n",
              "    <tr>\n",
              "      <th>120</th>\n",
              "      <td>2022-12-01</td>\n",
              "      <td>310</td>\n",
              "      <td>322</td>\n",
              "      <td>2736.64</td>\n",
              "      <td>1287.68</td>\n",
              "      <td>749.57</td>\n",
              "      <td>385.09</td>\n",
              "      <td>1472.27</td>\n",
              "      <td>62.25</td>\n",
              "      <td>210.72987</td>\n",
              "      <td>33.7</td>\n",
              "      <td>76.177419</td>\n",
              "    </tr>\n",
              "    <tr>\n",
              "      <th>121</th>\n",
              "      <td>2023-01-01</td>\n",
              "      <td>277</td>\n",
              "      <td>307</td>\n",
              "      <td>2842.81</td>\n",
              "      <td>1289.12</td>\n",
              "      <td>761.60</td>\n",
              "      <td>373.03</td>\n",
              "      <td>1525.43</td>\n",
              "      <td>63.04</td>\n",
              "      <td>244.41912</td>\n",
              "      <td>4.6</td>\n",
              "      <td>74.774194</td>\n",
              "    </tr>\n",
              "    <tr>\n",
              "      <th>122</th>\n",
              "      <td>2023-02-01</td>\n",
              "      <td>323</td>\n",
              "      <td>330</td>\n",
              "      <td>2936.19</td>\n",
              "      <td>1303.59</td>\n",
              "      <td>759.59</td>\n",
              "      <td>390.69</td>\n",
              "      <td>1572.25</td>\n",
              "      <td>71.52</td>\n",
              "      <td>223.31732</td>\n",
              "      <td>6.9</td>\n",
              "      <td>66.910714</td>\n",
              "    </tr>\n",
              "    <tr>\n",
              "      <th>123</th>\n",
              "      <td>2023-03-01</td>\n",
              "      <td>360</td>\n",
              "      <td>339</td>\n",
              "      <td>2847.84</td>\n",
              "      <td>1234.88</td>\n",
              "      <td>771.62</td>\n",
              "      <td>396.87</td>\n",
              "      <td>1302.61</td>\n",
              "      <td>74.80</td>\n",
              "      <td>228.56676</td>\n",
              "      <td>41.5</td>\n",
              "      <td>69.000000</td>\n",
              "    </tr>\n",
              "  </tbody>\n",
              "</table>\n",
              "</div>\n",
              "    <div class=\"colab-df-buttons\">\n",
              "\n",
              "  <div class=\"colab-df-container\">\n",
              "    <button class=\"colab-df-convert\" onclick=\"convertToInteractive('df-a6e36031-e045-4cf0-ac93-1e8530c53ed4')\"\n",
              "            title=\"Convert this dataframe to an interactive table.\"\n",
              "            style=\"display:none;\">\n",
              "\n",
              "  <svg xmlns=\"http://www.w3.org/2000/svg\" height=\"24px\" viewBox=\"0 -960 960 960\">\n",
              "    <path d=\"M120-120v-720h720v720H120Zm60-500h600v-160H180v160Zm220 220h160v-160H400v160Zm0 220h160v-160H400v160ZM180-400h160v-160H180v160Zm440 0h160v-160H620v160ZM180-180h160v-160H180v160Zm440 0h160v-160H620v160Z\"/>\n",
              "  </svg>\n",
              "    </button>\n",
              "\n",
              "  <style>\n",
              "    .colab-df-container {\n",
              "      display:flex;\n",
              "      gap: 12px;\n",
              "    }\n",
              "\n",
              "    .colab-df-convert {\n",
              "      background-color: #E8F0FE;\n",
              "      border: none;\n",
              "      border-radius: 50%;\n",
              "      cursor: pointer;\n",
              "      display: none;\n",
              "      fill: #1967D2;\n",
              "      height: 32px;\n",
              "      padding: 0 0 0 0;\n",
              "      width: 32px;\n",
              "    }\n",
              "\n",
              "    .colab-df-convert:hover {\n",
              "      background-color: #E2EBFA;\n",
              "      box-shadow: 0px 1px 2px rgba(60, 64, 67, 0.3), 0px 1px 3px 1px rgba(60, 64, 67, 0.15);\n",
              "      fill: #174EA6;\n",
              "    }\n",
              "\n",
              "    .colab-df-buttons div {\n",
              "      margin-bottom: 4px;\n",
              "    }\n",
              "\n",
              "    [theme=dark] .colab-df-convert {\n",
              "      background-color: #3B4455;\n",
              "      fill: #D2E3FC;\n",
              "    }\n",
              "\n",
              "    [theme=dark] .colab-df-convert:hover {\n",
              "      background-color: #434B5C;\n",
              "      box-shadow: 0px 1px 3px 1px rgba(0, 0, 0, 0.15);\n",
              "      filter: drop-shadow(0px 1px 2px rgba(0, 0, 0, 0.3));\n",
              "      fill: #FFFFFF;\n",
              "    }\n",
              "  </style>\n",
              "\n",
              "    <script>\n",
              "      const buttonEl =\n",
              "        document.querySelector('#df-a6e36031-e045-4cf0-ac93-1e8530c53ed4 button.colab-df-convert');\n",
              "      buttonEl.style.display =\n",
              "        google.colab.kernel.accessAllowed ? 'block' : 'none';\n",
              "\n",
              "      async function convertToInteractive(key) {\n",
              "        const element = document.querySelector('#df-a6e36031-e045-4cf0-ac93-1e8530c53ed4');\n",
              "        const dataTable =\n",
              "          await google.colab.kernel.invokeFunction('convertToInteractive',\n",
              "                                                    [key], {});\n",
              "        if (!dataTable) return;\n",
              "\n",
              "        const docLinkHtml = 'Like what you see? Visit the ' +\n",
              "          '<a target=\"_blank\" href=https://colab.research.google.com/notebooks/data_table.ipynb>data table notebook</a>'\n",
              "          + ' to learn more about interactive tables.';\n",
              "        element.innerHTML = '';\n",
              "        dataTable['output_type'] = 'display_data';\n",
              "        await google.colab.output.renderOutput(dataTable, element);\n",
              "        const docLink = document.createElement('div');\n",
              "        docLink.innerHTML = docLinkHtml;\n",
              "        element.appendChild(docLink);\n",
              "      }\n",
              "    </script>\n",
              "  </div>\n",
              "\n",
              "\n",
              "<div id=\"df-3b7fd29b-2ed1-4233-976b-c43869580e5c\">\n",
              "  <button class=\"colab-df-quickchart\" onclick=\"quickchart('df-3b7fd29b-2ed1-4233-976b-c43869580e5c')\"\n",
              "            title=\"Suggest charts\"\n",
              "            style=\"display:none;\">\n",
              "\n",
              "<svg xmlns=\"http://www.w3.org/2000/svg\" height=\"24px\"viewBox=\"0 0 24 24\"\n",
              "     width=\"24px\">\n",
              "    <g>\n",
              "        <path d=\"M19 3H5c-1.1 0-2 .9-2 2v14c0 1.1.9 2 2 2h14c1.1 0 2-.9 2-2V5c0-1.1-.9-2-2-2zM9 17H7v-7h2v7zm4 0h-2V7h2v10zm4 0h-2v-4h2v4z\"/>\n",
              "    </g>\n",
              "</svg>\n",
              "  </button>\n",
              "\n",
              "<style>\n",
              "  .colab-df-quickchart {\n",
              "      --bg-color: #E8F0FE;\n",
              "      --fill-color: #1967D2;\n",
              "      --hover-bg-color: #E2EBFA;\n",
              "      --hover-fill-color: #174EA6;\n",
              "      --disabled-fill-color: #AAA;\n",
              "      --disabled-bg-color: #DDD;\n",
              "  }\n",
              "\n",
              "  [theme=dark] .colab-df-quickchart {\n",
              "      --bg-color: #3B4455;\n",
              "      --fill-color: #D2E3FC;\n",
              "      --hover-bg-color: #434B5C;\n",
              "      --hover-fill-color: #FFFFFF;\n",
              "      --disabled-bg-color: #3B4455;\n",
              "      --disabled-fill-color: #666;\n",
              "  }\n",
              "\n",
              "  .colab-df-quickchart {\n",
              "    background-color: var(--bg-color);\n",
              "    border: none;\n",
              "    border-radius: 50%;\n",
              "    cursor: pointer;\n",
              "    display: none;\n",
              "    fill: var(--fill-color);\n",
              "    height: 32px;\n",
              "    padding: 0;\n",
              "    width: 32px;\n",
              "  }\n",
              "\n",
              "  .colab-df-quickchart:hover {\n",
              "    background-color: var(--hover-bg-color);\n",
              "    box-shadow: 0 1px 2px rgba(60, 64, 67, 0.3), 0 1px 3px 1px rgba(60, 64, 67, 0.15);\n",
              "    fill: var(--button-hover-fill-color);\n",
              "  }\n",
              "\n",
              "  .colab-df-quickchart-complete:disabled,\n",
              "  .colab-df-quickchart-complete:disabled:hover {\n",
              "    background-color: var(--disabled-bg-color);\n",
              "    fill: var(--disabled-fill-color);\n",
              "    box-shadow: none;\n",
              "  }\n",
              "\n",
              "  .colab-df-spinner {\n",
              "    border: 2px solid var(--fill-color);\n",
              "    border-color: transparent;\n",
              "    border-bottom-color: var(--fill-color);\n",
              "    animation:\n",
              "      spin 1s steps(1) infinite;\n",
              "  }\n",
              "\n",
              "  @keyframes spin {\n",
              "    0% {\n",
              "      border-color: transparent;\n",
              "      border-bottom-color: var(--fill-color);\n",
              "      border-left-color: var(--fill-color);\n",
              "    }\n",
              "    20% {\n",
              "      border-color: transparent;\n",
              "      border-left-color: var(--fill-color);\n",
              "      border-top-color: var(--fill-color);\n",
              "    }\n",
              "    30% {\n",
              "      border-color: transparent;\n",
              "      border-left-color: var(--fill-color);\n",
              "      border-top-color: var(--fill-color);\n",
              "      border-right-color: var(--fill-color);\n",
              "    }\n",
              "    40% {\n",
              "      border-color: transparent;\n",
              "      border-right-color: var(--fill-color);\n",
              "      border-top-color: var(--fill-color);\n",
              "    }\n",
              "    60% {\n",
              "      border-color: transparent;\n",
              "      border-right-color: var(--fill-color);\n",
              "    }\n",
              "    80% {\n",
              "      border-color: transparent;\n",
              "      border-right-color: var(--fill-color);\n",
              "      border-bottom-color: var(--fill-color);\n",
              "    }\n",
              "    90% {\n",
              "      border-color: transparent;\n",
              "      border-bottom-color: var(--fill-color);\n",
              "    }\n",
              "  }\n",
              "</style>\n",
              "\n",
              "  <script>\n",
              "    async function quickchart(key) {\n",
              "      const quickchartButtonEl =\n",
              "        document.querySelector('#' + key + ' button');\n",
              "      quickchartButtonEl.disabled = true;  // To prevent multiple clicks.\n",
              "      quickchartButtonEl.classList.add('colab-df-spinner');\n",
              "      try {\n",
              "        const charts = await google.colab.kernel.invokeFunction(\n",
              "            'suggestCharts', [key], {});\n",
              "      } catch (error) {\n",
              "        console.error('Error during call to suggestCharts:', error);\n",
              "      }\n",
              "      quickchartButtonEl.classList.remove('colab-df-spinner');\n",
              "      quickchartButtonEl.classList.add('colab-df-quickchart-complete');\n",
              "    }\n",
              "    (() => {\n",
              "      let quickchartButtonEl =\n",
              "        document.querySelector('#df-3b7fd29b-2ed1-4233-976b-c43869580e5c button');\n",
              "      quickchartButtonEl.style.display =\n",
              "        google.colab.kernel.accessAllowed ? 'block' : 'none';\n",
              "    })();\n",
              "  </script>\n",
              "</div>\n",
              "\n",
              "    </div>\n",
              "  </div>\n"
            ],
            "application/vnd.google.colaboratory.intrinsic+json": {
              "type": "dataframe",
              "repr_error": "0"
            }
          },
          "metadata": {},
          "execution_count": 12
        }
      ],
      "source": [
        "df.tail()"
      ]
    },
    {
      "cell_type": "markdown",
      "id": "4f76e1c5",
      "metadata": {
        "id": "4f76e1c5"
      },
      "source": [
        "## **Exploratory Analysis**"
      ]
    },
    {
      "cell_type": "code",
      "execution_count": 13,
      "id": "e429162f",
      "metadata": {
        "id": "e429162f",
        "colab": {
          "base_uri": "https://localhost:8080/",
          "height": 536
        },
        "outputId": "11f1faa1-9fba-4d7e-8c90-e8dd4d3ab152"
      },
      "outputs": [
        {
          "output_type": "execute_result",
          "data": {
            "text/plain": [
              "date                 object\n",
              "veg_index             int64\n",
              "soil_capacity         int64\n",
              "co2_level           float64\n",
              "nutrient_level      float64\n",
              "fertilizer_index    float64\n",
              "root_depth          float64\n",
              "solar_radiation     float64\n",
              "precipitation       float64\n",
              "growth_stage        float64\n",
              "yield_history       float64\n",
              "humidity            float64\n",
              "dtype: object"
            ],
            "text/html": [
              "<div>\n",
              "<style scoped>\n",
              "    .dataframe tbody tr th:only-of-type {\n",
              "        vertical-align: middle;\n",
              "    }\n",
              "\n",
              "    .dataframe tbody tr th {\n",
              "        vertical-align: top;\n",
              "    }\n",
              "\n",
              "    .dataframe thead th {\n",
              "        text-align: right;\n",
              "    }\n",
              "</style>\n",
              "<table border=\"1\" class=\"dataframe\">\n",
              "  <thead>\n",
              "    <tr style=\"text-align: right;\">\n",
              "      <th></th>\n",
              "      <th>0</th>\n",
              "    </tr>\n",
              "  </thead>\n",
              "  <tbody>\n",
              "    <tr>\n",
              "      <th>date</th>\n",
              "      <td>object</td>\n",
              "    </tr>\n",
              "    <tr>\n",
              "      <th>veg_index</th>\n",
              "      <td>int64</td>\n",
              "    </tr>\n",
              "    <tr>\n",
              "      <th>soil_capacity</th>\n",
              "      <td>int64</td>\n",
              "    </tr>\n",
              "    <tr>\n",
              "      <th>co2_level</th>\n",
              "      <td>float64</td>\n",
              "    </tr>\n",
              "    <tr>\n",
              "      <th>nutrient_level</th>\n",
              "      <td>float64</td>\n",
              "    </tr>\n",
              "    <tr>\n",
              "      <th>fertilizer_index</th>\n",
              "      <td>float64</td>\n",
              "    </tr>\n",
              "    <tr>\n",
              "      <th>root_depth</th>\n",
              "      <td>float64</td>\n",
              "    </tr>\n",
              "    <tr>\n",
              "      <th>solar_radiation</th>\n",
              "      <td>float64</td>\n",
              "    </tr>\n",
              "    <tr>\n",
              "      <th>precipitation</th>\n",
              "      <td>float64</td>\n",
              "    </tr>\n",
              "    <tr>\n",
              "      <th>growth_stage</th>\n",
              "      <td>float64</td>\n",
              "    </tr>\n",
              "    <tr>\n",
              "      <th>yield_history</th>\n",
              "      <td>float64</td>\n",
              "    </tr>\n",
              "    <tr>\n",
              "      <th>humidity</th>\n",
              "      <td>float64</td>\n",
              "    </tr>\n",
              "  </tbody>\n",
              "</table>\n",
              "</div><br><label><b>dtype:</b> object</label>"
            ]
          },
          "metadata": {},
          "execution_count": 13
        }
      ],
      "source": [
        "# Check the data types of the columns\n",
        "df.dtypes"
      ]
    },
    {
      "cell_type": "code",
      "execution_count": 14,
      "id": "bede5e5b",
      "metadata": {
        "id": "bede5e5b",
        "colab": {
          "base_uri": "https://localhost:8080/"
        },
        "outputId": "78f3e360-fbc0-4bec-de4a-03a0167b3b44"
      },
      "outputs": [
        {
          "output_type": "execute_result",
          "data": {
            "text/plain": [
              "Index(['date', 'veg_index', 'soil_capacity', 'co2_level', 'nutrient_level',\n",
              "       'fertilizer_index', 'root_depth', 'solar_radiation', 'precipitation',\n",
              "       'growth_stage', 'yield_history', 'humidity'],\n",
              "      dtype='object')"
            ]
          },
          "metadata": {},
          "execution_count": 14
        }
      ],
      "source": [
        "# Display the columns of the dataset\n",
        "df.columns"
      ]
    },
    {
      "cell_type": "code",
      "execution_count": 15,
      "id": "e08bc1d7",
      "metadata": {
        "id": "e08bc1d7",
        "colab": {
          "base_uri": "https://localhost:8080/"
        },
        "outputId": "88abf34c-dd05-4a46-a657-37ea37b5e93f"
      },
      "outputs": [
        {
          "output_type": "stream",
          "name": "stdout",
          "text": [
            "Non-numeric columns: Index(['date'], dtype='object')\n"
          ]
        }
      ],
      "source": [
        "# Identify non-numeric columns\n",
        "non_numeric_columns = df.select_dtypes(include=['object']).columns\n",
        "print(f'Non-numeric columns: {non_numeric_columns}')"
      ]
    },
    {
      "cell_type": "markdown",
      "id": "e61a5e90",
      "metadata": {
        "id": "e61a5e90"
      },
      "source": [
        "## **Cleaning and Transformation**"
      ]
    },
    {
      "cell_type": "code",
      "execution_count": 16,
      "id": "bd127542",
      "metadata": {
        "id": "bd127542"
      },
      "outputs": [],
      "source": [
        "# Remove non-numeric columns (if not needed)\n",
        "df = df.drop(columns=non_numeric_columns)"
      ]
    },
    {
      "cell_type": "code",
      "execution_count": 17,
      "id": "fa4b6ed0",
      "metadata": {
        "id": "fa4b6ed0"
      },
      "outputs": [],
      "source": [
        "# Check if the 'humidity' column contains numeric values\n",
        "if df['humidity'].dtype == 'object':\n",
        "    df['humidity'] = pd.to_numeric(df_dsa['humidity'], errors='coerce')"
      ]
    },
    {
      "cell_type": "code",
      "execution_count": 18,
      "id": "c4e059a8",
      "metadata": {
        "id": "c4e059a8"
      },
      "outputs": [],
      "source": [
        "# Remove rows with missing values\n",
        "df = df.dropna()"
      ]
    },
    {
      "cell_type": "markdown",
      "id": "b6202829",
      "metadata": {
        "id": "b6202829"
      },
      "source": [
        "## **Data Standardization**"
      ]
    },
    {
      "cell_type": "code",
      "execution_count": 19,
      "id": "3b21c85d",
      "metadata": {
        "id": "3b21c85d"
      },
      "outputs": [],
      "source": [
        "# Separate predictors and target variable\n",
        "X = df.drop(columns='humidity')\n",
        "y = df['humidity']"
      ]
    },
    {
      "cell_type": "code",
      "execution_count": 20,
      "id": "7c988014",
      "metadata": {
        "id": "7c988014"
      },
      "outputs": [],
      "source": [
        "# Split the data into training and testing sets\n",
        "X_train, X_test, y_train, y_test = train_test_split(X, y, test_size=0.2, random_state=42)"
      ]
    },
    {
      "cell_type": "code",
      "execution_count": 21,
      "id": "defd575e",
      "metadata": {
        "id": "defd575e"
      },
      "outputs": [],
      "source": [
        "# Create the scaler\n",
        "scaler = StandardScaler()"
      ]
    },
    {
      "cell_type": "code",
      "execution_count": 22,
      "id": "1d2acd6a",
      "metadata": {
        "id": "1d2acd6a"
      },
      "outputs": [],
      "source": [
        "# Standardize the data\n",
        "X_train_scaled = scaler.fit_transform(X_train)\n",
        "X_test_scaled = scaler.transform(X_test)"
      ]
    },
    {
      "cell_type": "code",
      "execution_count": 23,
      "id": "961d217a",
      "metadata": {
        "id": "961d217a",
        "colab": {
          "base_uri": "https://localhost:8080/"
        },
        "outputId": "7ec1fb49-40e8-4f8c-f2ec-9b444116e4db"
      },
      "outputs": [
        {
          "output_type": "execute_result",
          "data": {
            "text/plain": [
              "['scaler.joblib']"
            ]
          },
          "metadata": {},
          "execution_count": 23
        }
      ],
      "source": [
        "# Save the scaler to disk\n",
        "joblib.dump(scaler, 'scaler.joblib')"
      ]
    },
    {
      "cell_type": "markdown",
      "id": "1c89ec92",
      "metadata": {
        "id": "1c89ec92"
      },
      "source": [
        "## **Model Building**"
      ]
    },
    {
      "cell_type": "code",
      "execution_count": 24,
      "id": "a50a7101",
      "metadata": {
        "id": "a50a7101"
      },
      "outputs": [],
      "source": [
        "# Define the model architecture\n",
        "model = Sequential([\n",
        "    Dense(64, activation='relu', input_shape=(X_train.shape[1],)),\n",
        "    Dropout(0.3),\n",
        "    Dense(32, activation='relu'),\n",
        "    Dropout(0.3),\n",
        "    Dense(16, activation='relu'),\n",
        "    Dense(1)\n",
        "])"
      ]
    },
    {
      "cell_type": "markdown",
      "id": "b0ba4579",
      "metadata": {
        "id": "b0ba4579"
      },
      "source": [
        "\n",
        "\n",
        "The code above defines the architecture of a sequential neural network model using the Keras library. Here is a detailed explanation of each line:\n",
        "\n",
        "**`model = Sequential([ ... ])`**: Creates a sequential model, which is a linear stack of layers.\n",
        "\n",
        "**`Dense(64, activation='relu', input_shape=(X_train.shape[1],))`**: Adds a dense (fully connected) layer with 64 neurons and a ReLU (Rectified Linear Unit) activation function. The `input_shape` specifies the shape of the input data, corresponding to the number of features (columns) in `X_train`.\n",
        "\n",
        "**`Dropout(0.3)`**: Adds a dropout layer with a 30% rate. Dropout is a regularization technique that randomly deactivates 30% of the neurons during training to prevent overfitting.\n",
        "\n",
        "**`Dense(32, activation='relu')`**: Adds another dense layer with 32 neurons and a ReLU activation function.\n",
        "\n",
        "**`Dropout(0.3)`**: Adds another dropout layer with a 30% rate.\n",
        "\n",
        "**`Dense(16, activation='relu')`**: Adds another dense layer with 16 neurons and a ReLU activation function.\n",
        "\n",
        "**`Dense(1)`**: Adds the output layer with a single neuron. No activation function is specified, which is common in regression problems where the output is a continuous value. If it were a binary classification problem, a sigmoid activation could be used in this layer.\n",
        "\n",
        "This architecture is typical for regression problems where the goal is to predict a single continuous value based on multiple input features."
      ]
    },
    {
      "cell_type": "markdown",
      "id": "5a5c4823",
      "metadata": {
        "id": "5a5c4823"
      },
      "source": [
        "## **Model Compilation**"
      ]
    },
    {
      "cell_type": "code",
      "execution_count": 25,
      "id": "5941799a",
      "metadata": {
        "id": "5941799a"
      },
      "outputs": [],
      "source": [
        "# Compile the model\n",
        "model.compile(optimizer='adam', loss='mse', metrics=['mae'])"
      ]
    },
    {
      "cell_type": "markdown",
      "id": "e25e9830",
      "metadata": {
        "id": "e25e9830"
      },
      "source": [
        "The code above compiles the neural network model that was defined earlier. Compilation is a necessary step before training the model. Here is an explanation of each part of the code:\n",
        "\n",
        "**`model.compile(...)`**: Compiles the model, configuring it for training with an optimizer, a loss function, and metrics.\n",
        "\n",
        "**`optimizer='adam'`**: Sets the optimizer to 'adam'. Adam (Adaptive Moment Estimation) is an efficient and widely used optimizer in neural networks, combining the advantages of Gradient Descent with Momentum and RMSProp algorithms. It dynamically adjusts the learning rate during training.\n",
        "\n",
        "**`loss='mse'`**: Sets the loss function to 'mse' (Mean Squared Error). MSE is a common loss function in regression problems, which calculates the mean of the squared differences between predicted and actual values. It is used to measure model performance, with lower values indicating a better fit.\n",
        "\n",
        "**`metrics=['mae']`**: Specifies that the metric to be monitored during training is 'mae' (Mean Absolute Error). MAE is the mean of the absolute values of the differences between predicted and actual values. Like MSE, lower MAE values indicate better model performance, but MAE is less sensitive to large errors than MSE.\n",
        "\n",
        "Compiling the model is an essential step that defines how the model will be optimized and evaluated during training."
      ]
    },
    {
      "cell_type": "markdown",
      "id": "4820e81c",
      "metadata": {
        "id": "4820e81c"
      },
      "source": [
        "## **Defining Callbacks**"
      ]
    },
    {
      "cell_type": "code",
      "execution_count": 26,
      "id": "f815687e",
      "metadata": {
        "collapsed": true,
        "id": "f815687e"
      },
      "outputs": [],
      "source": [
        "# Callbacks\n",
        "early_stopping = EarlyStopping(monitor='val_loss', patience=10, restore_best_weights=True)\n",
        "model_checkpoint = ModelCheckpoint('model.keras', save_best_only=True)"
      ]
    },
    {
      "cell_type": "markdown",
      "id": "a2d59ac2",
      "metadata": {
        "id": "a2d59ac2"
      },
      "source": [
        "This code snippet defines two callbacks for model training: EarlyStopping and ModelCheckpoint. Callbacks are tools that allow you to perform certain actions at specific points during training.\n",
        "\n",
        "**`early_stopping = EarlyStopping(...)`**: Defines an early stopping callback.\n",
        "\n",
        "**`monitor='val_loss'`**: Monitors the validation loss (`val_loss`) during training. Validation is a process where a separate set of data (validation data) is used to assess the model's performance, helping to prevent overfitting.\n",
        "\n",
        "**`patience=10`**: Sets the patience to 10 epochs. This means that if the validation loss does not improve for 10 consecutive epochs, the training will be stopped.\n",
        "\n",
        "**`restore_best_weights=True`**: Restores the model weights to the state with the best validation loss. This ensures that the final model weights are the best found during training.\n",
        "\n",
        "**`model_checkpoint = ModelCheckpoint(...)`**: Defines a model checkpoint callback.\n",
        "\n",
        "**`'model.keras'`**: Specifies the filename where the model will be saved.\n",
        "\n",
        "**`save_best_only=True`**: Saves the model only when it shows the best validation loss so far. This prevents saving multiple versions of the model and ensures that the best model found during training is saved.\n",
        "\n",
        "In summary, these callbacks help to:\n",
        "\n",
        "- Stop training early if the model is not improving, saving time and computational resources.\n",
        "\n",
        "- Automatically save the best model found during training, ensuring that you have a version of the model with the best performance."
      ]
    },
    {
      "cell_type": "markdown",
      "id": "a21f40c2",
      "metadata": {
        "id": "a21f40c2"
      },
      "source": [
        "\n",
        "\n",
        "## **Model Training**"
      ]
    },
    {
      "cell_type": "code",
      "execution_count": 27,
      "id": "1819481d",
      "metadata": {
        "id": "1819481d",
        "colab": {
          "base_uri": "https://localhost:8080/",
          "height": 397
        },
        "outputId": "b3630276-9b3a-413a-a29e-a4d7aba85846"
      },
      "outputs": [
        {
          "output_type": "display_data",
          "data": {
            "text/plain": [
              "\u001b[1mModel: \"sequential\"\u001b[0m\n"
            ],
            "text/html": [
              "<pre style=\"white-space:pre;overflow-x:auto;line-height:normal;font-family:Menlo,'DejaVu Sans Mono',consolas,'Courier New',monospace\"><span style=\"font-weight: bold\">Model: \"sequential\"</span>\n",
              "</pre>\n"
            ]
          },
          "metadata": {}
        },
        {
          "output_type": "display_data",
          "data": {
            "text/plain": [
              "┏━━━━━━━━━━━━━━━━━━━━━━━━━━━━━━━━━━━━━━┳━━━━━━━━━━━━━━━━━━━━━━━━━━━━━┳━━━━━━━━━━━━━━━━━┓\n",
              "┃\u001b[1m \u001b[0m\u001b[1mLayer (type)                        \u001b[0m\u001b[1m \u001b[0m┃\u001b[1m \u001b[0m\u001b[1mOutput Shape               \u001b[0m\u001b[1m \u001b[0m┃\u001b[1m \u001b[0m\u001b[1m        Param #\u001b[0m\u001b[1m \u001b[0m┃\n",
              "┡━━━━━━━━━━━━━━━━━━━━━━━━━━━━━━━━━━━━━━╇━━━━━━━━━━━━━━━━━━━━━━━━━━━━━╇━━━━━━━━━━━━━━━━━┩\n",
              "│ dense (\u001b[38;5;33mDense\u001b[0m)                        │ (\u001b[38;5;45mNone\u001b[0m, \u001b[38;5;34m64\u001b[0m)                  │             \u001b[38;5;34m704\u001b[0m │\n",
              "├──────────────────────────────────────┼─────────────────────────────┼─────────────────┤\n",
              "│ dropout (\u001b[38;5;33mDropout\u001b[0m)                    │ (\u001b[38;5;45mNone\u001b[0m, \u001b[38;5;34m64\u001b[0m)                  │               \u001b[38;5;34m0\u001b[0m │\n",
              "├──────────────────────────────────────┼─────────────────────────────┼─────────────────┤\n",
              "│ dense_1 (\u001b[38;5;33mDense\u001b[0m)                      │ (\u001b[38;5;45mNone\u001b[0m, \u001b[38;5;34m32\u001b[0m)                  │           \u001b[38;5;34m2,080\u001b[0m │\n",
              "├──────────────────────────────────────┼─────────────────────────────┼─────────────────┤\n",
              "│ dropout_1 (\u001b[38;5;33mDropout\u001b[0m)                  │ (\u001b[38;5;45mNone\u001b[0m, \u001b[38;5;34m32\u001b[0m)                  │               \u001b[38;5;34m0\u001b[0m │\n",
              "├──────────────────────────────────────┼─────────────────────────────┼─────────────────┤\n",
              "│ dense_2 (\u001b[38;5;33mDense\u001b[0m)                      │ (\u001b[38;5;45mNone\u001b[0m, \u001b[38;5;34m16\u001b[0m)                  │             \u001b[38;5;34m528\u001b[0m │\n",
              "├──────────────────────────────────────┼─────────────────────────────┼─────────────────┤\n",
              "│ dense_3 (\u001b[38;5;33mDense\u001b[0m)                      │ (\u001b[38;5;45mNone\u001b[0m, \u001b[38;5;34m1\u001b[0m)                   │              \u001b[38;5;34m17\u001b[0m │\n",
              "└──────────────────────────────────────┴─────────────────────────────┴─────────────────┘\n"
            ],
            "text/html": [
              "<pre style=\"white-space:pre;overflow-x:auto;line-height:normal;font-family:Menlo,'DejaVu Sans Mono',consolas,'Courier New',monospace\">┏━━━━━━━━━━━━━━━━━━━━━━━━━━━━━━━━━━━━━━┳━━━━━━━━━━━━━━━━━━━━━━━━━━━━━┳━━━━━━━━━━━━━━━━━┓\n",
              "┃<span style=\"font-weight: bold\"> Layer (type)                         </span>┃<span style=\"font-weight: bold\"> Output Shape                </span>┃<span style=\"font-weight: bold\">         Param # </span>┃\n",
              "┡━━━━━━━━━━━━━━━━━━━━━━━━━━━━━━━━━━━━━━╇━━━━━━━━━━━━━━━━━━━━━━━━━━━━━╇━━━━━━━━━━━━━━━━━┩\n",
              "│ dense (<span style=\"color: #0087ff; text-decoration-color: #0087ff\">Dense</span>)                        │ (<span style=\"color: #00d7ff; text-decoration-color: #00d7ff\">None</span>, <span style=\"color: #00af00; text-decoration-color: #00af00\">64</span>)                  │             <span style=\"color: #00af00; text-decoration-color: #00af00\">704</span> │\n",
              "├──────────────────────────────────────┼─────────────────────────────┼─────────────────┤\n",
              "│ dropout (<span style=\"color: #0087ff; text-decoration-color: #0087ff\">Dropout</span>)                    │ (<span style=\"color: #00d7ff; text-decoration-color: #00d7ff\">None</span>, <span style=\"color: #00af00; text-decoration-color: #00af00\">64</span>)                  │               <span style=\"color: #00af00; text-decoration-color: #00af00\">0</span> │\n",
              "├──────────────────────────────────────┼─────────────────────────────┼─────────────────┤\n",
              "│ dense_1 (<span style=\"color: #0087ff; text-decoration-color: #0087ff\">Dense</span>)                      │ (<span style=\"color: #00d7ff; text-decoration-color: #00d7ff\">None</span>, <span style=\"color: #00af00; text-decoration-color: #00af00\">32</span>)                  │           <span style=\"color: #00af00; text-decoration-color: #00af00\">2,080</span> │\n",
              "├──────────────────────────────────────┼─────────────────────────────┼─────────────────┤\n",
              "│ dropout_1 (<span style=\"color: #0087ff; text-decoration-color: #0087ff\">Dropout</span>)                  │ (<span style=\"color: #00d7ff; text-decoration-color: #00d7ff\">None</span>, <span style=\"color: #00af00; text-decoration-color: #00af00\">32</span>)                  │               <span style=\"color: #00af00; text-decoration-color: #00af00\">0</span> │\n",
              "├──────────────────────────────────────┼─────────────────────────────┼─────────────────┤\n",
              "│ dense_2 (<span style=\"color: #0087ff; text-decoration-color: #0087ff\">Dense</span>)                      │ (<span style=\"color: #00d7ff; text-decoration-color: #00d7ff\">None</span>, <span style=\"color: #00af00; text-decoration-color: #00af00\">16</span>)                  │             <span style=\"color: #00af00; text-decoration-color: #00af00\">528</span> │\n",
              "├──────────────────────────────────────┼─────────────────────────────┼─────────────────┤\n",
              "│ dense_3 (<span style=\"color: #0087ff; text-decoration-color: #0087ff\">Dense</span>)                      │ (<span style=\"color: #00d7ff; text-decoration-color: #00d7ff\">None</span>, <span style=\"color: #00af00; text-decoration-color: #00af00\">1</span>)                   │              <span style=\"color: #00af00; text-decoration-color: #00af00\">17</span> │\n",
              "└──────────────────────────────────────┴─────────────────────────────┴─────────────────┘\n",
              "</pre>\n"
            ]
          },
          "metadata": {}
        },
        {
          "output_type": "display_data",
          "data": {
            "text/plain": [
              "\u001b[1m Total params: \u001b[0m\u001b[38;5;34m3,329\u001b[0m (13.00 KB)\n"
            ],
            "text/html": [
              "<pre style=\"white-space:pre;overflow-x:auto;line-height:normal;font-family:Menlo,'DejaVu Sans Mono',consolas,'Courier New',monospace\"><span style=\"font-weight: bold\"> Total params: </span><span style=\"color: #00af00; text-decoration-color: #00af00\">3,329</span> (13.00 KB)\n",
              "</pre>\n"
            ]
          },
          "metadata": {}
        },
        {
          "output_type": "display_data",
          "data": {
            "text/plain": [
              "\u001b[1m Trainable params: \u001b[0m\u001b[38;5;34m3,329\u001b[0m (13.00 KB)\n"
            ],
            "text/html": [
              "<pre style=\"white-space:pre;overflow-x:auto;line-height:normal;font-family:Menlo,'DejaVu Sans Mono',consolas,'Courier New',monospace\"><span style=\"font-weight: bold\"> Trainable params: </span><span style=\"color: #00af00; text-decoration-color: #00af00\">3,329</span> (13.00 KB)\n",
              "</pre>\n"
            ]
          },
          "metadata": {}
        },
        {
          "output_type": "display_data",
          "data": {
            "text/plain": [
              "\u001b[1m Non-trainable params: \u001b[0m\u001b[38;5;34m0\u001b[0m (0.00 B)\n"
            ],
            "text/html": [
              "<pre style=\"white-space:pre;overflow-x:auto;line-height:normal;font-family:Menlo,'DejaVu Sans Mono',consolas,'Courier New',monospace\"><span style=\"font-weight: bold\"> Non-trainable params: </span><span style=\"color: #00af00; text-decoration-color: #00af00\">0</span> (0.00 B)\n",
              "</pre>\n"
            ]
          },
          "metadata": {}
        }
      ],
      "source": [
        "model.summary()"
      ]
    },
    {
      "cell_type": "code",
      "execution_count": 28,
      "id": "506071c7",
      "metadata": {
        "id": "506071c7",
        "colab": {
          "base_uri": "https://localhost:8080/"
        },
        "outputId": "8e1ad531-a858-49be-e226-33db3e22c392"
      },
      "outputs": [
        {
          "output_type": "stream",
          "name": "stdout",
          "text": [
            "Epoch 1/100\n",
            "\u001b[1m3/3\u001b[0m \u001b[32m━━━━━━━━━━━━━━━━━━━━\u001b[0m\u001b[37m\u001b[0m \u001b[1m2s\u001b[0m 136ms/step - loss: 5192.9194 - mae: 71.9399 - val_loss: 5202.6504 - val_mae: 72.0255\n",
            "Epoch 2/100\n",
            "\u001b[1m3/3\u001b[0m \u001b[32m━━━━━━━━━━━━━━━━━━━━\u001b[0m\u001b[37m\u001b[0m \u001b[1m0s\u001b[0m 34ms/step - loss: 5153.2324 - mae: 71.6530 - val_loss: 5189.6201 - val_mae: 71.9351\n",
            "Epoch 3/100\n",
            "\u001b[1m3/3\u001b[0m \u001b[32m━━━━━━━━━━━━━━━━━━━━\u001b[0m\u001b[37m\u001b[0m \u001b[1m0s\u001b[0m 33ms/step - loss: 5197.3320 - mae: 71.9554 - val_loss: 5174.9775 - val_mae: 71.8337\n",
            "Epoch 4/100\n",
            "\u001b[1m3/3\u001b[0m \u001b[32m━━━━━━━━━━━━━━━━━━━━\u001b[0m\u001b[37m\u001b[0m \u001b[1m0s\u001b[0m 33ms/step - loss: 5161.6426 - mae: 71.7099 - val_loss: 5158.3149 - val_mae: 71.7180\n",
            "Epoch 5/100\n",
            "\u001b[1m3/3\u001b[0m \u001b[32m━━━━━━━━━━━━━━━━━━━━\u001b[0m\u001b[37m\u001b[0m \u001b[1m0s\u001b[0m 34ms/step - loss: 5163.8237 - mae: 71.7093 - val_loss: 5139.7422 - val_mae: 71.5888\n",
            "Epoch 6/100\n",
            "\u001b[1m3/3\u001b[0m \u001b[32m━━━━━━━━━━━━━━━━━━━━\u001b[0m\u001b[37m\u001b[0m \u001b[1m0s\u001b[0m 36ms/step - loss: 5093.6187 - mae: 71.2209 - val_loss: 5118.1499 - val_mae: 71.4382\n",
            "Epoch 7/100\n",
            "\u001b[1m3/3\u001b[0m \u001b[32m━━━━━━━━━━━━━━━━━━━━\u001b[0m\u001b[37m\u001b[0m \u001b[1m0s\u001b[0m 45ms/step - loss: 5086.7754 - mae: 71.1894 - val_loss: 5093.7290 - val_mae: 71.2674\n",
            "Epoch 8/100\n",
            "\u001b[1m3/3\u001b[0m \u001b[32m━━━━━━━━━━━━━━━━━━━━\u001b[0m\u001b[37m\u001b[0m \u001b[1m0s\u001b[0m 50ms/step - loss: 5053.3462 - mae: 70.9553 - val_loss: 5065.2134 - val_mae: 71.0672\n",
            "Epoch 9/100\n",
            "\u001b[1m3/3\u001b[0m \u001b[32m━━━━━━━━━━━━━━━━━━━━\u001b[0m\u001b[37m\u001b[0m \u001b[1m0s\u001b[0m 62ms/step - loss: 4957.1895 - mae: 70.2721 - val_loss: 5032.1831 - val_mae: 70.8346\n",
            "Epoch 10/100\n",
            "\u001b[1m3/3\u001b[0m \u001b[32m━━━━━━━━━━━━━━━━━━━━\u001b[0m\u001b[37m\u001b[0m \u001b[1m0s\u001b[0m 62ms/step - loss: 4944.4829 - mae: 70.1795 - val_loss: 4994.5127 - val_mae: 70.5684\n",
            "Epoch 11/100\n",
            "\u001b[1m3/3\u001b[0m \u001b[32m━━━━━━━━━━━━━━━━━━━━\u001b[0m\u001b[37m\u001b[0m \u001b[1m0s\u001b[0m 56ms/step - loss: 4934.8838 - mae: 70.0890 - val_loss: 4951.7520 - val_mae: 70.2647\n",
            "Epoch 12/100\n",
            "\u001b[1m3/3\u001b[0m \u001b[32m━━━━━━━━━━━━━━━━━━━━\u001b[0m\u001b[37m\u001b[0m \u001b[1m0s\u001b[0m 55ms/step - loss: 4944.5977 - mae: 70.1792 - val_loss: 4902.4712 - val_mae: 69.9130\n",
            "Epoch 13/100\n",
            "\u001b[1m3/3\u001b[0m \u001b[32m━━━━━━━━━━━━━━━━━━━━\u001b[0m\u001b[37m\u001b[0m \u001b[1m0s\u001b[0m 56ms/step - loss: 4857.3018 - mae: 69.5363 - val_loss: 4845.3994 - val_mae: 69.5036\n",
            "Epoch 14/100\n",
            "\u001b[1m3/3\u001b[0m \u001b[32m━━━━━━━━━━━━━━━━━━━━\u001b[0m\u001b[37m\u001b[0m \u001b[1m0s\u001b[0m 47ms/step - loss: 4789.9561 - mae: 69.0597 - val_loss: 4779.9038 - val_mae: 69.0307\n",
            "Epoch 15/100\n",
            "\u001b[1m3/3\u001b[0m \u001b[32m━━━━━━━━━━━━━━━━━━━━\u001b[0m\u001b[37m\u001b[0m \u001b[1m0s\u001b[0m 55ms/step - loss: 4693.5986 - mae: 68.3588 - val_loss: 4704.8682 - val_mae: 68.4849\n",
            "Epoch 16/100\n",
            "\u001b[1m3/3\u001b[0m \u001b[32m━━━━━━━━━━━━━━━━━━━━\u001b[0m\u001b[37m\u001b[0m \u001b[1m0s\u001b[0m 66ms/step - loss: 4654.4199 - mae: 68.0312 - val_loss: 4619.7520 - val_mae: 67.8605\n",
            "Epoch 17/100\n",
            "\u001b[1m3/3\u001b[0m \u001b[32m━━━━━━━━━━━━━━━━━━━━\u001b[0m\u001b[37m\u001b[0m \u001b[1m0s\u001b[0m 60ms/step - loss: 4564.5527 - mae: 67.3903 - val_loss: 4523.8350 - val_mae: 67.1496\n",
            "Epoch 18/100\n",
            "\u001b[1m3/3\u001b[0m \u001b[32m━━━━━━━━━━━━━━━━━━━━\u001b[0m\u001b[37m\u001b[0m \u001b[1m0s\u001b[0m 56ms/step - loss: 4433.2959 - mae: 66.4273 - val_loss: 4415.8896 - val_mae: 66.3401\n",
            "Epoch 19/100\n",
            "\u001b[1m3/3\u001b[0m \u001b[32m━━━━━━━━━━━━━━━━━━━━\u001b[0m\u001b[37m\u001b[0m \u001b[1m0s\u001b[0m 45ms/step - loss: 4255.5132 - mae: 64.9961 - val_loss: 4292.9502 - val_mae: 65.4058\n",
            "Epoch 20/100\n",
            "\u001b[1m3/3\u001b[0m \u001b[32m━━━━━━━━━━━━━━━━━━━━\u001b[0m\u001b[37m\u001b[0m \u001b[1m0s\u001b[0m 47ms/step - loss: 4096.9185 - mae: 63.7964 - val_loss: 4153.6304 - val_mae: 64.3302\n",
            "Epoch 21/100\n",
            "\u001b[1m3/3\u001b[0m \u001b[32m━━━━━━━━━━━━━━━━━━━━\u001b[0m\u001b[37m\u001b[0m \u001b[1m0s\u001b[0m 87ms/step - loss: 4034.3408 - mae: 63.2902 - val_loss: 3998.3062 - val_mae: 63.1092\n",
            "Epoch 22/100\n",
            "\u001b[1m3/3\u001b[0m \u001b[32m━━━━━━━━━━━━━━━━━━━━\u001b[0m\u001b[37m\u001b[0m \u001b[1m0s\u001b[0m 60ms/step - loss: 3843.8904 - mae: 61.7889 - val_loss: 3824.7896 - val_mae: 61.7152\n",
            "Epoch 23/100\n",
            "\u001b[1m3/3\u001b[0m \u001b[32m━━━━━━━━━━━━━━━━━━━━\u001b[0m\u001b[37m\u001b[0m \u001b[1m0s\u001b[0m 53ms/step - loss: 3679.2153 - mae: 60.3442 - val_loss: 3632.8667 - val_mae: 60.1343\n",
            "Epoch 24/100\n",
            "\u001b[1m3/3\u001b[0m \u001b[32m━━━━━━━━━━━━━━━━━━━━\u001b[0m\u001b[37m\u001b[0m \u001b[1m0s\u001b[0m 37ms/step - loss: 3490.7595 - mae: 58.7322 - val_loss: 3423.0405 - val_mae: 58.3540\n",
            "Epoch 25/100\n",
            "\u001b[1m3/3\u001b[0m \u001b[32m━━━━━━━━━━━━━━━━━━━━\u001b[0m\u001b[37m\u001b[0m \u001b[1m0s\u001b[0m 38ms/step - loss: 3273.6624 - mae: 56.7651 - val_loss: 3196.1008 - val_mae: 56.3627\n",
            "Epoch 26/100\n",
            "\u001b[1m3/3\u001b[0m \u001b[32m━━━━━━━━━━━━━━━━━━━━\u001b[0m\u001b[37m\u001b[0m \u001b[1m0s\u001b[0m 40ms/step - loss: 2975.9307 - mae: 54.0664 - val_loss: 2952.5903 - val_mae: 54.1415\n",
            "Epoch 27/100\n",
            "\u001b[1m3/3\u001b[0m \u001b[32m━━━━━━━━━━━━━━━━━━━━\u001b[0m\u001b[37m\u001b[0m \u001b[1m0s\u001b[0m 32ms/step - loss: 2768.0149 - mae: 51.8989 - val_loss: 2694.3794 - val_mae: 51.6772\n",
            "Epoch 28/100\n",
            "\u001b[1m3/3\u001b[0m \u001b[32m━━━━━━━━━━━━━━━━━━━━\u001b[0m\u001b[37m\u001b[0m \u001b[1m0s\u001b[0m 36ms/step - loss: 2511.7097 - mae: 49.5105 - val_loss: 2426.3630 - val_mae: 48.9822\n",
            "Epoch 29/100\n",
            "\u001b[1m3/3\u001b[0m \u001b[32m━━━━━━━━━━━━━━━━━━━━\u001b[0m\u001b[37m\u001b[0m \u001b[1m0s\u001b[0m 35ms/step - loss: 2272.2520 - mae: 46.7866 - val_loss: 2149.5691 - val_mae: 46.0248\n",
            "Epoch 30/100\n",
            "\u001b[1m3/3\u001b[0m \u001b[32m━━━━━━━━━━━━━━━━━━━━\u001b[0m\u001b[37m\u001b[0m \u001b[1m0s\u001b[0m 31ms/step - loss: 1971.3501 - mae: 43.2913 - val_loss: 1869.7610 - val_mae: 42.8161\n",
            "Epoch 31/100\n",
            "\u001b[1m3/3\u001b[0m \u001b[32m━━━━━━━━━━━━━━━━━━━━\u001b[0m\u001b[37m\u001b[0m \u001b[1m0s\u001b[0m 32ms/step - loss: 1749.0388 - mae: 40.1531 - val_loss: 1591.2904 - val_mae: 39.3508\n",
            "Epoch 32/100\n",
            "\u001b[1m3/3\u001b[0m \u001b[32m━━━━━━━━━━━━━━━━━━━━\u001b[0m\u001b[37m\u001b[0m \u001b[1m0s\u001b[0m 40ms/step - loss: 1391.2572 - mae: 35.8063 - val_loss: 1322.5702 - val_mae: 35.6692\n",
            "Epoch 33/100\n",
            "\u001b[1m3/3\u001b[0m \u001b[32m━━━━━━━━━━━━━━━━━━━━\u001b[0m\u001b[37m\u001b[0m \u001b[1m0s\u001b[0m 44ms/step - loss: 1313.0138 - mae: 34.3453 - val_loss: 1068.3951 - val_mae: 31.7722\n",
            "Epoch 34/100\n",
            "\u001b[1m3/3\u001b[0m \u001b[32m━━━━━━━━━━━━━━━━━━━━\u001b[0m\u001b[37m\u001b[0m \u001b[1m0s\u001b[0m 40ms/step - loss: 960.2997 - mae: 27.9330 - val_loss: 839.0787 - val_mae: 27.7524\n",
            "Epoch 35/100\n",
            "\u001b[1m3/3\u001b[0m \u001b[32m━━━━━━━━━━━━━━━━━━━━\u001b[0m\u001b[37m\u001b[0m \u001b[1m0s\u001b[0m 42ms/step - loss: 706.5316 - mae: 23.2334 - val_loss: 640.7069 - val_mae: 23.6882\n",
            "Epoch 36/100\n",
            "\u001b[1m3/3\u001b[0m \u001b[32m━━━━━━━━━━━━━━━━━━━━\u001b[0m\u001b[37m\u001b[0m \u001b[1m0s\u001b[0m 36ms/step - loss: 626.1171 - mae: 21.5115 - val_loss: 477.8780 - val_mae: 19.6766\n",
            "Epoch 37/100\n",
            "\u001b[1m3/3\u001b[0m \u001b[32m━━━━━━━━━━━━━━━━━━━━\u001b[0m\u001b[37m\u001b[0m \u001b[1m0s\u001b[0m 35ms/step - loss: 556.3675 - mae: 19.4212 - val_loss: 353.5640 - val_mae: 15.8720\n",
            "Epoch 38/100\n",
            "\u001b[1m3/3\u001b[0m \u001b[32m━━━━━━━━━━━━━━━━━━━━\u001b[0m\u001b[37m\u001b[0m \u001b[1m0s\u001b[0m 34ms/step - loss: 474.5333 - mae: 18.5912 - val_loss: 266.1708 - val_mae: 12.7235\n",
            "Epoch 39/100\n",
            "\u001b[1m3/3\u001b[0m \u001b[32m━━━━━━━━━━━━━━━━━━━━\u001b[0m\u001b[37m\u001b[0m \u001b[1m0s\u001b[0m 37ms/step - loss: 412.5833 - mae: 17.1264 - val_loss: 211.9784 - val_mae: 10.4906\n",
            "Epoch 40/100\n",
            "\u001b[1m3/3\u001b[0m \u001b[32m━━━━━━━━━━━━━━━━━━━━\u001b[0m\u001b[37m\u001b[0m \u001b[1m0s\u001b[0m 39ms/step - loss: 424.9573 - mae: 16.6000 - val_loss: 178.3361 - val_mae: 9.8064\n",
            "Epoch 41/100\n",
            "\u001b[1m3/3\u001b[0m \u001b[32m━━━━━━━━━━━━━━━━━━━━\u001b[0m\u001b[37m\u001b[0m \u001b[1m0s\u001b[0m 47ms/step - loss: 406.1880 - mae: 15.3412 - val_loss: 162.1547 - val_mae: 9.4722\n",
            "Epoch 42/100\n",
            "\u001b[1m3/3\u001b[0m \u001b[32m━━━━━━━━━━━━━━━━━━━━\u001b[0m\u001b[37m\u001b[0m \u001b[1m0s\u001b[0m 33ms/step - loss: 366.1397 - mae: 15.4213 - val_loss: 155.1148 - val_mae: 9.2674\n",
            "Epoch 43/100\n",
            "\u001b[1m3/3\u001b[0m \u001b[32m━━━━━━━━━━━━━━━━━━━━\u001b[0m\u001b[37m\u001b[0m \u001b[1m0s\u001b[0m 35ms/step - loss: 375.4377 - mae: 15.3842 - val_loss: 151.8336 - val_mae: 9.1217\n",
            "Epoch 44/100\n",
            "\u001b[1m3/3\u001b[0m \u001b[32m━━━━━━━━━━━━━━━━━━━━\u001b[0m\u001b[37m\u001b[0m \u001b[1m0s\u001b[0m 20ms/step - loss: 368.2200 - mae: 16.0668 - val_loss: 152.3658 - val_mae: 9.0589\n",
            "Epoch 45/100\n",
            "\u001b[1m3/3\u001b[0m \u001b[32m━━━━━━━━━━━━━━━━━━━━\u001b[0m\u001b[37m\u001b[0m \u001b[1m0s\u001b[0m 19ms/step - loss: 367.9853 - mae: 15.7173 - val_loss: 154.5456 - val_mae: 9.0140\n",
            "Epoch 46/100\n",
            "\u001b[1m3/3\u001b[0m \u001b[32m━━━━━━━━━━━━━━━━━━━━\u001b[0m\u001b[37m\u001b[0m \u001b[1m0s\u001b[0m 21ms/step - loss: 353.5253 - mae: 15.9553 - val_loss: 160.4077 - val_mae: 9.0475\n",
            "Epoch 47/100\n",
            "\u001b[1m3/3\u001b[0m \u001b[32m━━━━━━━━━━━━━━━━━━━━\u001b[0m\u001b[37m\u001b[0m \u001b[1m0s\u001b[0m 25ms/step - loss: 349.5632 - mae: 15.1462 - val_loss: 168.3987 - val_mae: 9.4089\n",
            "Epoch 48/100\n",
            "\u001b[1m3/3\u001b[0m \u001b[32m━━━━━━━━━━━━━━━━━━━━\u001b[0m\u001b[37m\u001b[0m \u001b[1m0s\u001b[0m 23ms/step - loss: 358.3623 - mae: 15.3425 - val_loss: 176.4449 - val_mae: 9.9112\n",
            "Epoch 49/100\n",
            "\u001b[1m3/3\u001b[0m \u001b[32m━━━━━━━━━━━━━━━━━━━━\u001b[0m\u001b[37m\u001b[0m \u001b[1m0s\u001b[0m 25ms/step - loss: 239.0326 - mae: 11.9842 - val_loss: 182.4546 - val_mae: 10.2415\n",
            "Epoch 50/100\n",
            "\u001b[1m3/3\u001b[0m \u001b[32m━━━━━━━━━━━━━━━━━━━━\u001b[0m\u001b[37m\u001b[0m \u001b[1m0s\u001b[0m 24ms/step - loss: 282.9533 - mae: 13.5663 - val_loss: 188.1569 - val_mae: 10.5123\n",
            "Epoch 51/100\n",
            "\u001b[1m3/3\u001b[0m \u001b[32m━━━━━━━━━━━━━━━━━━━━\u001b[0m\u001b[37m\u001b[0m \u001b[1m0s\u001b[0m 33ms/step - loss: 359.1279 - mae: 15.0509 - val_loss: 191.9023 - val_mae: 10.6535\n",
            "Epoch 52/100\n",
            "\u001b[1m3/3\u001b[0m \u001b[32m━━━━━━━━━━━━━━━━━━━━\u001b[0m\u001b[37m\u001b[0m \u001b[1m0s\u001b[0m 29ms/step - loss: 397.0706 - mae: 16.6099 - val_loss: 191.7108 - val_mae: 10.7223\n",
            "Epoch 53/100\n",
            "\u001b[1m3/3\u001b[0m \u001b[32m━━━━━━━━━━━━━━━━━━━━\u001b[0m\u001b[37m\u001b[0m \u001b[1m0s\u001b[0m 26ms/step - loss: 303.7797 - mae: 13.8629 - val_loss: 188.3946 - val_mae: 10.6494\n"
          ]
        }
      ],
      "source": [
        "# Train the model\n",
        "history = model.fit(\n",
        "    X_train_scaled,\n",
        "    y_train,\n",
        "    validation_split=0.2,\n",
        "    epochs=100,\n",
        "    batch_size=32,\n",
        "    callbacks=[early_stopping, model_checkpoint]\n",
        ")"
      ]
    },
    {
      "cell_type": "markdown",
      "id": "76590868",
      "metadata": {
        "id": "76590868"
      },
      "source": [
        "## **Model Evaluation**\n",
        "\n",
        "\n",
        "\n",
        "\n",
        "\n",
        "\n",
        "\n"
      ]
    },
    {
      "cell_type": "code",
      "execution_count": 29,
      "id": "871bc754",
      "metadata": {
        "id": "871bc754",
        "colab": {
          "base_uri": "https://localhost:8080/"
        },
        "outputId": "616bb15f-a4ba-4cad-f525-96186399008d"
      },
      "outputs": [
        {
          "output_type": "stream",
          "name": "stdout",
          "text": [
            "\u001b[1m1/1\u001b[0m \u001b[32m━━━━━━━━━━━━━━━━━━━━\u001b[0m\u001b[37m\u001b[0m \u001b[1m0s\u001b[0m 25ms/step - loss: 153.7987 - mae: 10.2485\n"
          ]
        }
      ],
      "source": [
        "# Evaluate the model on the test set\n",
        "test_loss, test_mae = model.evaluate(X_test_scaled, y_test)"
      ]
    },
    {
      "cell_type": "code",
      "execution_count": 30,
      "id": "00f4b45e",
      "metadata": {
        "id": "00f4b45e",
        "colab": {
          "base_uri": "https://localhost:8080/"
        },
        "outputId": "350ce25e-3728-4ffe-f36a-3c7d3aae0e2f"
      },
      "outputs": [
        {
          "output_type": "stream",
          "name": "stdout",
          "text": [
            "Test Loss: 153.7987060546875\n",
            "Test MAE: 10.248539924621582\n"
          ]
        }
      ],
      "source": [
        "print(f'Test Loss: {test_loss}')\n",
        "print(f'Test MAE: {test_mae}')"
      ]
    },
    {
      "cell_type": "markdown",
      "id": "7cdeb566",
      "metadata": {
        "id": "7cdeb566"
      },
      "source": [
        "\n",
        "Let's now deploy the model via API in the next chapter."
      ]
    },
    {
      "cell_type": "code",
      "execution_count": 31,
      "id": "a9a59e23",
      "metadata": {
        "id": "a9a59e23",
        "colab": {
          "base_uri": "https://localhost:8080/"
        },
        "outputId": "35c17ab3-9c1f-48ad-9a40-5982b0d0987f"
      },
      "outputs": [
        {
          "output_type": "stream",
          "name": "stdout",
          "text": [
            "Author: panData\n",
            "\n"
          ]
        }
      ],
      "source": [
        "%reload_ext watermark\n",
        "%watermark -a \"panData\""
      ]
    },
    {
      "cell_type": "code",
      "execution_count": 32,
      "id": "59e9459c",
      "metadata": {
        "id": "59e9459c"
      },
      "outputs": [],
      "source": [
        "#%watermark -v -m"
      ]
    },
    {
      "cell_type": "code",
      "execution_count": 33,
      "id": "8554f32c",
      "metadata": {
        "scrolled": true,
        "id": "8554f32c"
      },
      "outputs": [],
      "source": [
        "#%watermark --iversions"
      ]
    },
    {
      "cell_type": "code",
      "source": [
        "print(df.shape)\n",
        "df.head()"
      ],
      "metadata": {
        "colab": {
          "base_uri": "https://localhost:8080/",
          "height": 280
        },
        "id": "mu9_s7TcKzTa",
        "outputId": "b8dc70e4-cd31-4002-beeb-0229c3d86389"
      },
      "id": "mu9_s7TcKzTa",
      "execution_count": 35,
      "outputs": [
        {
          "output_type": "stream",
          "name": "stdout",
          "text": [
            "(124, 11)\n"
          ]
        },
        {
          "output_type": "execute_result",
          "data": {
            "text/plain": [
              "   veg_index  soil_capacity  co2_level  nutrient_level  fertilizer_index  \\\n",
              "0        323            455    3102.61          423.45             844.0   \n",
              "1        345            546    3100.45          415.85             799.0   \n",
              "2        362            595    3199.41          410.77             718.0   \n",
              "3        376            636    3281.67          414.82             614.0   \n",
              "4        383            738    3261.65          451.04             619.0   \n",
              "\n",
              "   root_depth  solar_radiation  precipitation  growth_stage  yield_history  \\\n",
              "0       468.0            578.0          28.67     207.70504          117.7   \n",
              "1       485.0            557.0          24.49     228.94287            4.5   \n",
              "2       466.0            552.0          22.06     238.41747           25.1   \n",
              "3       442.0            574.0          21.64     218.47599           53.6   \n",
              "4       429.0            595.0          22.30     226.15010          166.0   \n",
              "\n",
              "    humidity  \n",
              "0  79.261905  \n",
              "1  82.193548  \n",
              "2  74.839286  \n",
              "3  77.935484  \n",
              "4  80.450000  "
            ],
            "text/html": [
              "\n",
              "  <div id=\"df-59112db8-99f9-402a-8855-f93459b6d84a\" class=\"colab-df-container\">\n",
              "    <div>\n",
              "<style scoped>\n",
              "    .dataframe tbody tr th:only-of-type {\n",
              "        vertical-align: middle;\n",
              "    }\n",
              "\n",
              "    .dataframe tbody tr th {\n",
              "        vertical-align: top;\n",
              "    }\n",
              "\n",
              "    .dataframe thead th {\n",
              "        text-align: right;\n",
              "    }\n",
              "</style>\n",
              "<table border=\"1\" class=\"dataframe\">\n",
              "  <thead>\n",
              "    <tr style=\"text-align: right;\">\n",
              "      <th></th>\n",
              "      <th>veg_index</th>\n",
              "      <th>soil_capacity</th>\n",
              "      <th>co2_level</th>\n",
              "      <th>nutrient_level</th>\n",
              "      <th>fertilizer_index</th>\n",
              "      <th>root_depth</th>\n",
              "      <th>solar_radiation</th>\n",
              "      <th>precipitation</th>\n",
              "      <th>growth_stage</th>\n",
              "      <th>yield_history</th>\n",
              "      <th>humidity</th>\n",
              "    </tr>\n",
              "  </thead>\n",
              "  <tbody>\n",
              "    <tr>\n",
              "      <th>0</th>\n",
              "      <td>323</td>\n",
              "      <td>455</td>\n",
              "      <td>3102.61</td>\n",
              "      <td>423.45</td>\n",
              "      <td>844.0</td>\n",
              "      <td>468.0</td>\n",
              "      <td>578.0</td>\n",
              "      <td>28.67</td>\n",
              "      <td>207.70504</td>\n",
              "      <td>117.7</td>\n",
              "      <td>79.261905</td>\n",
              "    </tr>\n",
              "    <tr>\n",
              "      <th>1</th>\n",
              "      <td>345</td>\n",
              "      <td>546</td>\n",
              "      <td>3100.45</td>\n",
              "      <td>415.85</td>\n",
              "      <td>799.0</td>\n",
              "      <td>485.0</td>\n",
              "      <td>557.0</td>\n",
              "      <td>24.49</td>\n",
              "      <td>228.94287</td>\n",
              "      <td>4.5</td>\n",
              "      <td>82.193548</td>\n",
              "    </tr>\n",
              "    <tr>\n",
              "      <th>2</th>\n",
              "      <td>362</td>\n",
              "      <td>595</td>\n",
              "      <td>3199.41</td>\n",
              "      <td>410.77</td>\n",
              "      <td>718.0</td>\n",
              "      <td>466.0</td>\n",
              "      <td>552.0</td>\n",
              "      <td>22.06</td>\n",
              "      <td>238.41747</td>\n",
              "      <td>25.1</td>\n",
              "      <td>74.839286</td>\n",
              "    </tr>\n",
              "    <tr>\n",
              "      <th>3</th>\n",
              "      <td>376</td>\n",
              "      <td>636</td>\n",
              "      <td>3281.67</td>\n",
              "      <td>414.82</td>\n",
              "      <td>614.0</td>\n",
              "      <td>442.0</td>\n",
              "      <td>574.0</td>\n",
              "      <td>21.64</td>\n",
              "      <td>218.47599</td>\n",
              "      <td>53.6</td>\n",
              "      <td>77.935484</td>\n",
              "    </tr>\n",
              "    <tr>\n",
              "      <th>4</th>\n",
              "      <td>383</td>\n",
              "      <td>738</td>\n",
              "      <td>3261.65</td>\n",
              "      <td>451.04</td>\n",
              "      <td>619.0</td>\n",
              "      <td>429.0</td>\n",
              "      <td>595.0</td>\n",
              "      <td>22.30</td>\n",
              "      <td>226.15010</td>\n",
              "      <td>166.0</td>\n",
              "      <td>80.450000</td>\n",
              "    </tr>\n",
              "  </tbody>\n",
              "</table>\n",
              "</div>\n",
              "    <div class=\"colab-df-buttons\">\n",
              "\n",
              "  <div class=\"colab-df-container\">\n",
              "    <button class=\"colab-df-convert\" onclick=\"convertToInteractive('df-59112db8-99f9-402a-8855-f93459b6d84a')\"\n",
              "            title=\"Convert this dataframe to an interactive table.\"\n",
              "            style=\"display:none;\">\n",
              "\n",
              "  <svg xmlns=\"http://www.w3.org/2000/svg\" height=\"24px\" viewBox=\"0 -960 960 960\">\n",
              "    <path d=\"M120-120v-720h720v720H120Zm60-500h600v-160H180v160Zm220 220h160v-160H400v160Zm0 220h160v-160H400v160ZM180-400h160v-160H180v160Zm440 0h160v-160H620v160ZM180-180h160v-160H180v160Zm440 0h160v-160H620v160Z\"/>\n",
              "  </svg>\n",
              "    </button>\n",
              "\n",
              "  <style>\n",
              "    .colab-df-container {\n",
              "      display:flex;\n",
              "      gap: 12px;\n",
              "    }\n",
              "\n",
              "    .colab-df-convert {\n",
              "      background-color: #E8F0FE;\n",
              "      border: none;\n",
              "      border-radius: 50%;\n",
              "      cursor: pointer;\n",
              "      display: none;\n",
              "      fill: #1967D2;\n",
              "      height: 32px;\n",
              "      padding: 0 0 0 0;\n",
              "      width: 32px;\n",
              "    }\n",
              "\n",
              "    .colab-df-convert:hover {\n",
              "      background-color: #E2EBFA;\n",
              "      box-shadow: 0px 1px 2px rgba(60, 64, 67, 0.3), 0px 1px 3px 1px rgba(60, 64, 67, 0.15);\n",
              "      fill: #174EA6;\n",
              "    }\n",
              "\n",
              "    .colab-df-buttons div {\n",
              "      margin-bottom: 4px;\n",
              "    }\n",
              "\n",
              "    [theme=dark] .colab-df-convert {\n",
              "      background-color: #3B4455;\n",
              "      fill: #D2E3FC;\n",
              "    }\n",
              "\n",
              "    [theme=dark] .colab-df-convert:hover {\n",
              "      background-color: #434B5C;\n",
              "      box-shadow: 0px 1px 3px 1px rgba(0, 0, 0, 0.15);\n",
              "      filter: drop-shadow(0px 1px 2px rgba(0, 0, 0, 0.3));\n",
              "      fill: #FFFFFF;\n",
              "    }\n",
              "  </style>\n",
              "\n",
              "    <script>\n",
              "      const buttonEl =\n",
              "        document.querySelector('#df-59112db8-99f9-402a-8855-f93459b6d84a button.colab-df-convert');\n",
              "      buttonEl.style.display =\n",
              "        google.colab.kernel.accessAllowed ? 'block' : 'none';\n",
              "\n",
              "      async function convertToInteractive(key) {\n",
              "        const element = document.querySelector('#df-59112db8-99f9-402a-8855-f93459b6d84a');\n",
              "        const dataTable =\n",
              "          await google.colab.kernel.invokeFunction('convertToInteractive',\n",
              "                                                    [key], {});\n",
              "        if (!dataTable) return;\n",
              "\n",
              "        const docLinkHtml = 'Like what you see? Visit the ' +\n",
              "          '<a target=\"_blank\" href=https://colab.research.google.com/notebooks/data_table.ipynb>data table notebook</a>'\n",
              "          + ' to learn more about interactive tables.';\n",
              "        element.innerHTML = '';\n",
              "        dataTable['output_type'] = 'display_data';\n",
              "        await google.colab.output.renderOutput(dataTable, element);\n",
              "        const docLink = document.createElement('div');\n",
              "        docLink.innerHTML = docLinkHtml;\n",
              "        element.appendChild(docLink);\n",
              "      }\n",
              "    </script>\n",
              "  </div>\n",
              "\n",
              "\n",
              "<div id=\"df-df6913b6-7cf5-4cf1-a587-bca7059e0288\">\n",
              "  <button class=\"colab-df-quickchart\" onclick=\"quickchart('df-df6913b6-7cf5-4cf1-a587-bca7059e0288')\"\n",
              "            title=\"Suggest charts\"\n",
              "            style=\"display:none;\">\n",
              "\n",
              "<svg xmlns=\"http://www.w3.org/2000/svg\" height=\"24px\"viewBox=\"0 0 24 24\"\n",
              "     width=\"24px\">\n",
              "    <g>\n",
              "        <path d=\"M19 3H5c-1.1 0-2 .9-2 2v14c0 1.1.9 2 2 2h14c1.1 0 2-.9 2-2V5c0-1.1-.9-2-2-2zM9 17H7v-7h2v7zm4 0h-2V7h2v10zm4 0h-2v-4h2v4z\"/>\n",
              "    </g>\n",
              "</svg>\n",
              "  </button>\n",
              "\n",
              "<style>\n",
              "  .colab-df-quickchart {\n",
              "      --bg-color: #E8F0FE;\n",
              "      --fill-color: #1967D2;\n",
              "      --hover-bg-color: #E2EBFA;\n",
              "      --hover-fill-color: #174EA6;\n",
              "      --disabled-fill-color: #AAA;\n",
              "      --disabled-bg-color: #DDD;\n",
              "  }\n",
              "\n",
              "  [theme=dark] .colab-df-quickchart {\n",
              "      --bg-color: #3B4455;\n",
              "      --fill-color: #D2E3FC;\n",
              "      --hover-bg-color: #434B5C;\n",
              "      --hover-fill-color: #FFFFFF;\n",
              "      --disabled-bg-color: #3B4455;\n",
              "      --disabled-fill-color: #666;\n",
              "  }\n",
              "\n",
              "  .colab-df-quickchart {\n",
              "    background-color: var(--bg-color);\n",
              "    border: none;\n",
              "    border-radius: 50%;\n",
              "    cursor: pointer;\n",
              "    display: none;\n",
              "    fill: var(--fill-color);\n",
              "    height: 32px;\n",
              "    padding: 0;\n",
              "    width: 32px;\n",
              "  }\n",
              "\n",
              "  .colab-df-quickchart:hover {\n",
              "    background-color: var(--hover-bg-color);\n",
              "    box-shadow: 0 1px 2px rgba(60, 64, 67, 0.3), 0 1px 3px 1px rgba(60, 64, 67, 0.15);\n",
              "    fill: var(--button-hover-fill-color);\n",
              "  }\n",
              "\n",
              "  .colab-df-quickchart-complete:disabled,\n",
              "  .colab-df-quickchart-complete:disabled:hover {\n",
              "    background-color: var(--disabled-bg-color);\n",
              "    fill: var(--disabled-fill-color);\n",
              "    box-shadow: none;\n",
              "  }\n",
              "\n",
              "  .colab-df-spinner {\n",
              "    border: 2px solid var(--fill-color);\n",
              "    border-color: transparent;\n",
              "    border-bottom-color: var(--fill-color);\n",
              "    animation:\n",
              "      spin 1s steps(1) infinite;\n",
              "  }\n",
              "\n",
              "  @keyframes spin {\n",
              "    0% {\n",
              "      border-color: transparent;\n",
              "      border-bottom-color: var(--fill-color);\n",
              "      border-left-color: var(--fill-color);\n",
              "    }\n",
              "    20% {\n",
              "      border-color: transparent;\n",
              "      border-left-color: var(--fill-color);\n",
              "      border-top-color: var(--fill-color);\n",
              "    }\n",
              "    30% {\n",
              "      border-color: transparent;\n",
              "      border-left-color: var(--fill-color);\n",
              "      border-top-color: var(--fill-color);\n",
              "      border-right-color: var(--fill-color);\n",
              "    }\n",
              "    40% {\n",
              "      border-color: transparent;\n",
              "      border-right-color: var(--fill-color);\n",
              "      border-top-color: var(--fill-color);\n",
              "    }\n",
              "    60% {\n",
              "      border-color: transparent;\n",
              "      border-right-color: var(--fill-color);\n",
              "    }\n",
              "    80% {\n",
              "      border-color: transparent;\n",
              "      border-right-color: var(--fill-color);\n",
              "      border-bottom-color: var(--fill-color);\n",
              "    }\n",
              "    90% {\n",
              "      border-color: transparent;\n",
              "      border-bottom-color: var(--fill-color);\n",
              "    }\n",
              "  }\n",
              "</style>\n",
              "\n",
              "  <script>\n",
              "    async function quickchart(key) {\n",
              "      const quickchartButtonEl =\n",
              "        document.querySelector('#' + key + ' button');\n",
              "      quickchartButtonEl.disabled = true;  // To prevent multiple clicks.\n",
              "      quickchartButtonEl.classList.add('colab-df-spinner');\n",
              "      try {\n",
              "        const charts = await google.colab.kernel.invokeFunction(\n",
              "            'suggestCharts', [key], {});\n",
              "      } catch (error) {\n",
              "        console.error('Error during call to suggestCharts:', error);\n",
              "      }\n",
              "      quickchartButtonEl.classList.remove('colab-df-spinner');\n",
              "      quickchartButtonEl.classList.add('colab-df-quickchart-complete');\n",
              "    }\n",
              "    (() => {\n",
              "      let quickchartButtonEl =\n",
              "        document.querySelector('#df-df6913b6-7cf5-4cf1-a587-bca7059e0288 button');\n",
              "      quickchartButtonEl.style.display =\n",
              "        google.colab.kernel.accessAllowed ? 'block' : 'none';\n",
              "    })();\n",
              "  </script>\n",
              "</div>\n",
              "\n",
              "    </div>\n",
              "  </div>\n"
            ],
            "application/vnd.google.colaboratory.intrinsic+json": {
              "type": "dataframe",
              "variable_name": "df",
              "summary": "{\n  \"name\": \"df\",\n  \"rows\": 124,\n  \"fields\": [\n    {\n      \"column\": \"veg_index\",\n      \"properties\": {\n        \"dtype\": \"number\",\n        \"std\": 134,\n        \"min\": 234,\n        \"max\": 719,\n        \"num_unique_values\": 106,\n        \"samples\": [\n          251,\n          391,\n          383\n        ],\n        \"semantic_type\": \"\",\n        \"description\": \"\"\n      }\n    },\n    {\n      \"column\": \"soil_capacity\",\n      \"properties\": {\n        \"dtype\": \"number\",\n        \"std\": 146,\n        \"min\": 285,\n        \"max\": 874,\n        \"num_unique_values\": 110,\n        \"samples\": [\n          700,\n          528,\n          738\n        ],\n        \"semantic_type\": \"\",\n        \"description\": \"\"\n      }\n    },\n    {\n      \"column\": \"co2_level\",\n      \"properties\": {\n        \"dtype\": \"number\",\n        \"std\": 1025.7601401542988,\n        \"min\": 2536.49,\n        \"max\": 6241.91,\n        \"num_unique_values\": 124,\n        \"samples\": [\n          2628.83,\n          4161.09,\n          3596.26\n        ],\n        \"semantic_type\": \"\",\n        \"description\": \"\"\n      }\n    },\n    {\n      \"column\": \"nutrient_level\",\n      \"properties\": {\n        \"dtype\": \"number\",\n        \"std\": 306.28865154057314,\n        \"min\": 410.77,\n        \"max\": 1591.88,\n        \"num_unique_values\": 124,\n        \"samples\": [\n          553.48,\n          654.17,\n          647.24\n        ],\n        \"semantic_type\": \"\",\n        \"description\": \"\"\n      }\n    },\n    {\n      \"column\": \"fertilizer_index\",\n      \"properties\": {\n        \"dtype\": \"number\",\n        \"std\": 142.75455365053065,\n        \"min\": 562.0,\n        \"max\": 1096.0,\n        \"num_unique_values\": 112,\n        \"samples\": [\n          1025.0,\n          1093.0,\n          619.0\n        ],\n        \"semantic_type\": \"\",\n        \"description\": \"\"\n      }\n    },\n    {\n      \"column\": \"root_depth\",\n      \"properties\": {\n        \"dtype\": \"number\",\n        \"std\": 109.88033385844544,\n        \"min\": 286.89,\n        \"max\": 706.0,\n        \"num_unique_values\": 115,\n        \"samples\": [\n          444.36,\n          429.0,\n          652.0\n        ],\n        \"semantic_type\": \"\",\n        \"description\": \"\"\n      }\n    },\n    {\n      \"column\": \"solar_radiation\",\n      \"properties\": {\n        \"dtype\": \"number\",\n        \"std\": 411.7888250728975,\n        \"min\": 543.0,\n        \"max\": 2045.0,\n        \"num_unique_values\": 115,\n        \"samples\": [\n          986.0,\n          595.0,\n          679.0\n        ],\n        \"semantic_type\": \"\",\n        \"description\": \"\"\n      }\n    },\n    {\n      \"column\": \"precipitation\",\n      \"properties\": {\n        \"dtype\": \"number\",\n        \"std\": 16.16163687008474,\n        \"min\": 21.64,\n        \"max\": 86.12,\n        \"num_unique_values\": 124,\n        \"samples\": [\n          30.84,\n          41.04,\n          37.59\n        ],\n        \"semantic_type\": \"\",\n        \"description\": \"\"\n      }\n    },\n    {\n      \"column\": \"growth_stage\",\n      \"properties\": {\n        \"dtype\": \"number\",\n        \"std\": 23.587044202076488,\n        \"min\": 141.75893,\n        \"max\": 252.54135,\n        \"num_unique_values\": 124,\n        \"samples\": [\n          184.81875,\n          199.9269,\n          206.42468\n        ],\n        \"semantic_type\": \"\",\n        \"description\": \"\"\n      }\n    },\n    {\n      \"column\": \"yield_history\",\n      \"properties\": {\n        \"dtype\": \"number\",\n        \"std\": 88.06108483512661,\n        \"min\": 2.1,\n        \"max\": 329.0,\n        \"num_unique_values\": 119,\n        \"samples\": [\n          274.2,\n          276.8,\n          166.0\n        ],\n        \"semantic_type\": \"\",\n        \"description\": \"\"\n      }\n    },\n    {\n      \"column\": \"humidity\",\n      \"properties\": {\n        \"dtype\": \"number\",\n        \"std\": 4.42547777404175,\n        \"min\": 61.56666667,\n        \"max\": 82.5483871,\n        \"num_unique_values\": 124,\n        \"samples\": [\n          70.46666667,\n          69.31666667,\n          82.5483871\n        ],\n        \"semantic_type\": \"\",\n        \"description\": \"\"\n      }\n    }\n  ]\n}"
            }
          },
          "metadata": {},
          "execution_count": 35
        }
      ]
    },
    {
      "cell_type": "markdown",
      "id": "959bbd1e",
      "metadata": {
        "id": "959bbd1e"
      },
      "source": [
        "# **The End**"
      ]
    }
  ],
  "metadata": {
    "kernelspec": {
      "display_name": "Python 3 (ipykernel)",
      "language": "python",
      "name": "python3"
    },
    "language_info": {
      "codemirror_mode": {
        "name": "ipython",
        "version": 3
      },
      "file_extension": ".py",
      "mimetype": "text/x-python",
      "name": "python",
      "nbconvert_exporter": "python",
      "pygments_lexer": "ipython3",
      "version": "3.11.5"
    },
    "colab": {
      "provenance": []
    }
  },
  "nbformat": 4,
  "nbformat_minor": 5
}